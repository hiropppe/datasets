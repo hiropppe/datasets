{
 "cells": [
  {
   "cell_type": "code",
   "execution_count": null,
   "id": "cd5f3003-14a3-477e-9ab6-15fa2b0bb659",
   "metadata": {},
   "outputs": [],
   "source": [
    "%load_ext autoreload\n",
    "%autoreload 1"
   ]
  },
  {
   "cell_type": "code",
   "execution_count": 1,
   "id": "e8102b5b-84ac-4102-97fb-182bbc3b9206",
   "metadata": {},
   "outputs": [],
   "source": [
    "import html2text\n",
    "import httpx\n",
    "import json\n",
    "import lxml\n",
    "import re\n",
    "import glob\n",
    "\n",
    "from lxml import html\n",
    "from extractcontent3 import ExtractContent\n",
    "from readability.readability import Document\n",
    "\n",
    "from tqdm import tqdm"
   ]
  },
  {
   "cell_type": "code",
   "execution_count": 2,
   "id": "eb9f2121-e3db-4d43-b551-300a97f326a1",
   "metadata": {},
   "outputs": [],
   "source": [
    "def extractcontent(html):\n",
    "    extractor = ExtractContent()\n",
    "\n",
    "    opt = {\"threshold\":50}\n",
    "    extractor.set_option(opt)\n",
    "\n",
    "    extractor.analyse(html)\n",
    "    text, title = extractor.as_text()\n",
    "    html, title = extractor.as_html()\n",
    "    title = extractor.extract_title(html)\n",
    "    return text\n",
    "\n",
    "def readability(html):\n",
    "    doc = Document(html)\n",
    "    title = doc.title()\n",
    "    summary = doc.summary()\n",
    "    #text1 = html2text.html2text(article)\n",
    "    summary_text = lxml.html.fromstring(summary).text_content().strip()\n",
    "    #return text1 + '\\n---\\n' + text2\n",
    "    return title, summary_text"
   ]
  },
  {
   "cell_type": "code",
   "execution_count": 3,
   "id": "afce78cd-b662-4f89-b839-1540e6743bc8",
   "metadata": {},
   "outputs": [
    {
     "name": "stdout",
     "output_type": "stream",
     "text": [
      "1    120  142  164  186  207  229  250\t272  294  315  337  36\t 381  59  80\n",
      "10   121  143  165  187  208  23   251\t273  295  316  338  360  382  6   81\n",
      "100  122  144  166  188  209  230  252\t274  296  317  339  361  39   60  82\n",
      "101  123  145  167  189  21   231  253\t275  297  318  34   362  4    61  83\n",
      "102  124  146  168  19\t 210  232  254\t276  298  319  340  363  40   62  84\n",
      "103  125  147  169  190  211  233  255\t277  299  32   341  364  41   63  85\n",
      "104  126  148  17   191  212  234  256\t278  3\t  320  342  365  42   64  86\n",
      "105  127  149  170  192  213  235  257\t279  30   321  343  366  43   65  87\n",
      "106  128  15   171  193  214  236  258\t28   300  322  344  367  44   66  88\n",
      "107  129  150  172  194  215  237  259\t280  301  323  345  368  45   67  89\n",
      "108  13   151  173  195  216  238  26\t281  302  324  346  369  46   68  9\n",
      "109  130  152  174  196  217  239  260\t282  303  325  347  37\t 47   69  90\n",
      "11   131  153  175  197  218  24   261\t283  304  326  348  370  48   7   91\n",
      "110  132  154  176  198  219  240  262\t284  305  327  349  371  49   70  92\n",
      "111  133  155  177  199  22   241  263\t285  306  328  35   372  5    71  93\n",
      "112  134  156  178  2\t 220  242  264\t286  307  329  350  373  50   72  94\n",
      "113  135  157  179  20\t 221  243  265\t287  308  33   351  374  51   73  95\n",
      "114  136  158  18   200  222  244  266\t288  309  330  352  375  52   74  96\n",
      "115  137  159  180  201  223  245  267\t289  31   331  353  376  53   75  97\n",
      "116  138  16   181  202  224  246  268\t29   310  332  354  377  54   76  98\n",
      "117  139  160  182  203  225  247  269\t290  311  333  355  378  55   77  99\n",
      "118  14   161  183  204  226  248  27\t291  312  334  357  379  56   78\n",
      "119  140  162  184  205  227  249  270\t292  313  335  358  38\t 57   79\n",
      "12   141  163  185  206  228  25   271\t293  314  336  359  380  58   8\n"
     ]
    }
   ],
   "source": [
    "!ls fc2blog/"
   ]
  },
  {
   "cell_type": "code",
   "execution_count": 4,
   "id": "9ea54d4d-496f-497d-9429-7a3d2983cb4e",
   "metadata": {},
   "outputs": [],
   "source": [
    "headers = {\n",
    "    'user-agent': 'Mozilla/5.0 (Windows NT 10.0; Win64; x64) AppleWebKit/537.36 (KHTML, like Gecko) Chrome/91.0.4472.106 Safari/537.36'\n",
    "}\n",
    "cookies = {\n",
    "    'age_check': '1'\n",
    "}"
   ]
  },
  {
   "cell_type": "code",
   "execution_count": 5,
   "id": "bb1f5d2e-d3a9-44ba-9026-0a2f608ce92a",
   "metadata": {},
   "outputs": [],
   "source": [
    "toxicity_genres = (333, 334, 335, 336, 337, 338, 339, 340, 341, 342, 343, 344, 345, 378, 379, 381)"
   ]
  },
  {
   "cell_type": "code",
   "execution_count": 6,
   "id": "0136af57-0ac2-4823-98e7-35958a633b64",
   "metadata": {},
   "outputs": [],
   "source": [
    "genre_list = httpx.get('https://blog.fc2.com/genrelist/', headers=headers, cookies=cookies)\n",
    "genre_groups = html.fromstring(genre_list.text).xpath('//*[@class=\"genre_group\"]')\n",
    "genre_data = []\n",
    "for group in genre_groups:\n",
    "    genre = group.xpath('./h3/a')[0]\n",
    "    genre_id = genre.attrib['href'].strip().split('/')[-2]\n",
    "    genre_text = genre.text.strip()\n",
    "    \n",
    "    children = []\n",
    "    subgenres = group.xpath('./ul/li/a')\n",
    "    for node in subgenres:\n",
    "        subgenre_id = re.findall(r'/subgenre/([0-9]+)/', node.attrib['href'])[0]\n",
    "        subgenre_text = ''.join(node.itertext()).strip()\n",
    "        children.append({\n",
    "            'id': subgenre_id,\n",
    "            'name': subgenre_text\n",
    "        })\n",
    "\n",
    "    genre_data.append({\n",
    "        'id': genre_id,\n",
    "        'name': genre_text,\n",
    "        'subgenre': children\n",
    "    })\n",
    "    \n",
    "subgenre2genre = {subgenre['id']: (genre['id'], genre['name']) for genre in genre_data for subgenre in genre['subgenre']}\n",
    "subgenre2name = {subgenre['id']: subgenre['name'] for genre in genre_data for subgenre in genre['subgenre']}"
   ]
  },
  {
   "cell_type": "code",
   "execution_count": 7,
   "id": "eac8889a-3243-416a-9364-c26d24c0c155",
   "metadata": {},
   "outputs": [
    {
     "name": "stderr",
     "output_type": "stream",
     "text": [
      "100%|███████████████████████████████████████████████████████████████████████████████████████████████████████████████████████████████████████████████████| 10/10 [00:00<00:00, 78.32it/s]"
     ]
    },
    {
     "name": "stdout",
     "output_type": "stream",
     "text": [
      "ParserError. Document is empty ./fc2blog/1/springillustration.blog.fc2.com#blog-entry-1020.html\n",
      "ParserError. Document is empty ./fc2blog/1/oyamanosuginoki.blog.fc2.com#blog-entry-2904.html\n",
      "ParserError. Document is empty ./fc2blog/1/watcher184.blog.fc2.com#blog-entry-88.html\n",
      "ParserError. Document is empty ./fc2blog/1/himawarigakudouclub.blog.fc2.com#blog-entry-745.html\n"
     ]
    },
    {
     "name": "stderr",
     "output_type": "stream",
     "text": [
      "\n"
     ]
    }
   ],
   "source": [
    "data = []\n",
    "for path in tqdm(glob.glob('./fc2blog/*/*.html')[:10]):\n",
    "    entry = path.split('/')[-1]\n",
    "    subgenre_id = path.split('/')[2]\n",
    "    toxicity = 1 if genre_id in toxicity_genres else 0\n",
    "    try:\n",
    "        title, summary = readability(open(path).read())\n",
    "        if summary.strip():\n",
    "            data.append({\n",
    "                'blog': entry.split('#')[0],\n",
    "                'entry': entry.split('#')[1],\n",
    "                'genre_id': subgenre2genre[subgenre_id][0],\n",
    "                'genre_name': subgenre2genre[subgenre_id][1],\n",
    "                'subgenre_id': subgenre_id,\n",
    "                'subgenre_name': subgenre2name[subgenre_id],\n",
    "                'toxicity': toxicity,\n",
    "                'title': title,\n",
    "                'text': summary\n",
    "            })\n",
    "    except Exception as exc:\n",
    "        print(f\"{type(exc).__name__}. {str(exc)} {path}\")"
   ]
  },
  {
   "cell_type": "code",
   "execution_count": 8,
   "id": "71203e00-e021-4029-bc42-ce0977991492",
   "metadata": {},
   "outputs": [
    {
     "data": {
      "text/plain": [
       "{'blog': 'create39.blog117.fc2.com',\n",
       " 'entry': 'blog-entry-4267.html',\n",
       " 'genre_id': '7',\n",
       " 'genre_name': '日記',\n",
       " 'subgenre_id': '1',\n",
       " 'subgenre_name': '小学生',\n",
       " 'toxicity': 0,\n",
       " 'title': '大好きなヤマちゃん - ～create～ hiroko 日々のフォトライフ',\n",
       " 'text': 'セイタカアワダチソウを写して、帰ろうとしたその時、ヤマセミヤマちゃんのキャッキャッと鳴き声が聞こえて来ました。それも近い所から・・・・・静かにそぉ～と動きながら探したら、「居ましたぁ～」遮る枝を避けて写そうとしたら・・・・２回シャッターを切ったら飛ばれました。大好きなヤマちゃんに会えて、スイッチが入りいつも遭遇する確率の高いポイントにUターンしてしばらく待つことにしました。見えない所で鳴き声がしているので、必ず来ると信じて待ちました。やっとこ来てくれたけれど、枝に遮られて・・・・・直ぐに飛んで行きました。もう一度だけ、待っていたら、少し高い枝に来てくれました。待っていて良かったぁ～\\u3000\\u3000\\u3000本当に嬉しかったです。ちょっと移動して、こっちを向いています。\\u3000\\u3000正面顔です。又、飛んでいったので、今度こそ帰ろう～と移動したら先々、止まっては鳴き・・・・でも、これ写して後ろ髪引かれながらも、山の１６時は薄暗く成り始めこの場を後にしました。'}"
      ]
     },
     "execution_count": 8,
     "metadata": {},
     "output_type": "execute_result"
    }
   ],
   "source": [
    "data[0]"
   ]
  },
  {
   "cell_type": "code",
   "execution_count": 9,
   "id": "67fd3420-d3ca-419f-b499-d9779337cdb0",
   "metadata": {},
   "outputs": [],
   "source": [
    "with open('/tmp/fc2blog.json', 'w') as f:\n",
    "    json.dump(data, f, ensure_ascii=False, indent=4, sort_keys=True)"
   ]
  },
  {
   "cell_type": "code",
   "execution_count": null,
   "id": "6cf09dcb-709f-449c-8644-49db03deb61e",
   "metadata": {},
   "outputs": [],
   "source": []
  }
 ],
 "metadata": {
  "kernelspec": {
   "display_name": "Python 3 (ipykernel)",
   "language": "python",
   "name": "python3"
  },
  "language_info": {
   "codemirror_mode": {
    "name": "ipython",
    "version": 3
   },
   "file_extension": ".py",
   "mimetype": "text/x-python",
   "name": "python",
   "nbconvert_exporter": "python",
   "pygments_lexer": "ipython3",
   "version": "3.10.12"
  }
 },
 "nbformat": 4,
 "nbformat_minor": 5
}
