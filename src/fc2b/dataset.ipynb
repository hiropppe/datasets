{
 "cells": [
  {
   "cell_type": "code",
   "execution_count": 1,
   "id": "cd5f3003-14a3-477e-9ab6-15fa2b0bb659",
   "metadata": {
    "tags": []
   },
   "outputs": [],
   "source": [
    "%load_ext autoreload\n",
    "%autoreload 1"
   ]
  },
  {
   "cell_type": "code",
   "execution_count": 2,
   "id": "e8102b5b-84ac-4102-97fb-182bbc3b9206",
   "metadata": {
    "tags": []
   },
   "outputs": [],
   "source": [
    "import html2text\n",
    "import httpx\n",
    "import json\n",
    "import lxml\n",
    "import re\n",
    "import glob\n",
    "\n",
    "from lxml import html\n",
    "from extractcontent3 import ExtractContent\n",
    "from readability.readability import Document\n",
    "from trafilatura import fetch_url, extract\n",
    "\n",
    "from tqdm import tqdm"
   ]
  },
  {
   "cell_type": "code",
   "execution_count": 3,
   "id": "6d49e301-391c-405c-aa09-95e419b3d178",
   "metadata": {
    "tags": []
   },
   "outputs": [],
   "source": [
    "def extractcontent(html):\n",
    "    extractor = ExtractContent()\n",
    "\n",
    "    opt = {\"threshold\":50}\n",
    "    extractor.set_option(opt)\n",
    "\n",
    "    extractor.analyse(html)\n",
    "    text, title = extractor.as_text().strip()\n",
    "    html, title = extractor.as_html()\n",
    "    title = extractor.extract_title(html)\n",
    "    return title, text\n",
    "\n",
    "def readability_html2text(html):\n",
    "    doc = Document(html)\n",
    "    title = doc.title()\n",
    "    summary = doc.summary()\n",
    "    summary_text = html2text.html2text(summary).strip()\n",
    "    return title, summary_text\n",
    "\n",
    "def readability_lxml(html):\n",
    "    doc = Document(html)\n",
    "    title = doc.title()\n",
    "    summary = doc.summary()\n",
    "    summary_text = lxml.html.fromstring(summary).text_content().strip()\n",
    "    return title, summary_text\n",
    "\n",
    "def tura(html):\n",
    "    doc = Document(html)\n",
    "    title = doc.title()\n",
    "    text = extract(html)\n",
    "    return title, text\n",
    "\n",
    "def extract_content_text(html):\n",
    "    return readability_lxml(html)\n",
    "    #return tura(html)"
   ]
  },
  {
   "cell_type": "code",
   "execution_count": 4,
   "id": "afce78cd-b662-4f89-b839-1540e6743bc8",
   "metadata": {
    "tags": []
   },
   "outputs": [
    {
     "name": "stdout",
     "output_type": "stream",
     "text": [
      "1    120  142  164  186  207  229  250\t272  294  315  337  36\t 381  59  80\n",
      "10   121  143  165  187  208  23   251\t273  295  316  338  360  382  6   81\n",
      "100  122  144  166  188  209  230  252\t274  296  317  339  361  39   60  82\n",
      "101  123  145  167  189  21   231  253\t275  297  318  34   362  4    61  83\n",
      "102  124  146  168  19\t 210  232  254\t276  298  319  340  363  40   62  84\n",
      "103  125  147  169  190  211  233  255\t277  299  32   341  364  41   63  85\n",
      "104  126  148  17   191  212  234  256\t278  3\t  320  342  365  42   64  86\n",
      "105  127  149  170  192  213  235  257\t279  30   321  343  366  43   65  87\n",
      "106  128  15   171  193  214  236  258\t28   300  322  344  367  44   66  88\n",
      "107  129  150  172  194  215  237  259\t280  301  323  345  368  45   67  89\n",
      "108  13   151  173  195  216  238  26\t281  302  324  346  369  46   68  9\n",
      "109  130  152  174  196  217  239  260\t282  303  325  347  37\t 47   69  90\n",
      "11   131  153  175  197  218  24   261\t283  304  326  348  370  48   7   91\n",
      "110  132  154  176  198  219  240  262\t284  305  327  349  371  49   70  92\n",
      "111  133  155  177  199  22   241  263\t285  306  328  35   372  5    71  93\n",
      "112  134  156  178  2\t 220  242  264\t286  307  329  350  373  50   72  94\n",
      "113  135  157  179  20\t 221  243  265\t287  308  33   351  374  51   73  95\n",
      "114  136  158  18   200  222  244  266\t288  309  330  352  375  52   74  96\n",
      "115  137  159  180  201  223  245  267\t289  31   331  353  376  53   75  97\n",
      "116  138  16   181  202  224  246  268\t29   310  332  354  377  54   76  98\n",
      "117  139  160  182  203  225  247  269\t290  311  333  355  378  55   77  99\n",
      "118  14   161  183  204  226  248  27\t291  312  334  357  379  56   78\n",
      "119  140  162  184  205  227  249  270\t292  313  335  358  38\t 57   79\n",
      "12   141  163  185  206  228  25   271\t293  314  336  359  380  58   8\n"
     ]
    }
   ],
   "source": [
    "!ls ../../data/fc2b/html"
   ]
  },
  {
   "cell_type": "code",
   "execution_count": 5,
   "id": "9ea54d4d-496f-497d-9429-7a3d2983cb4e",
   "metadata": {
    "tags": []
   },
   "outputs": [],
   "source": [
    "headers = {}\n",
    "cookies = {'age_check': '1'}"
   ]
  },
  {
   "cell_type": "code",
   "execution_count": 6,
   "id": "bb1f5d2e-d3a9-44ba-9026-0a2f608ce92a",
   "metadata": {
    "tags": []
   },
   "outputs": [],
   "source": [
    "toxicity_genres = (333, 334, 335, 336, 337, 338, 339, 340, 341, 342, 343, 344, 345, 378, 379, 381)"
   ]
  },
  {
   "cell_type": "code",
   "execution_count": 7,
   "id": "0136af57-0ac2-4823-98e7-35958a633b64",
   "metadata": {
    "tags": []
   },
   "outputs": [],
   "source": [
    "genre_list = httpx.get('https://blog.fc2.com/genrelist/', headers=headers, cookies=cookies)\n",
    "genre_groups = html.fromstring(genre_list.text).xpath('//*[@class=\"genre_group\"]')\n",
    "genre_data = []\n",
    "for group in genre_groups:\n",
    "    genre = group.xpath('./h3/a')[0]\n",
    "    genre_id = genre.attrib['href'].strip().split('/')[-2]\n",
    "    genre_text = genre.text.strip()\n",
    "    \n",
    "    children = []\n",
    "    subgenres = group.xpath('./ul/li/a')\n",
    "    for node in subgenres:\n",
    "        subgenre_id = re.findall(r'/subgenre/([0-9]+)/', node.attrib['href'])[0]\n",
    "        subgenre_text = ''.join(node.itertext()).strip()\n",
    "        children.append({\n",
    "            'id': subgenre_id,\n",
    "            'name': subgenre_text\n",
    "        })\n",
    "\n",
    "    genre_data.append({\n",
    "        'id': genre_id,\n",
    "        'name': genre_text,\n",
    "        'subgenre': children\n",
    "    })\n",
    "    \n",
    "subgenre2genre = {subgenre['id']: (genre['id'], genre['name']) for genre in genre_data for subgenre in genre['subgenre']}\n",
    "subgenre2name = {subgenre['id']: subgenre['name'] for genre in genre_data for subgenre in genre['subgenre']}"
   ]
  },
  {
   "cell_type": "code",
   "execution_count": 8,
   "id": "eac8889a-3243-416a-9364-c26d24c0c155",
   "metadata": {
    "tags": []
   },
   "outputs": [
    {
     "name": "stderr",
     "output_type": "stream",
     "text": [
      " 50%|██████████████████████████████████████████████████████████████████████████████████████                                                                                      | 5/10 [00:00<00:00, 35.20it/s]"
     ]
    },
    {
     "name": "stdout",
     "output_type": "stream",
     "text": [
      "ParserError. Document is empty ../../data/fc2b/html/135/haircutfan.blog.fc2.com#blog-entry-48156.html\n",
      "ParserError. Document is empty ../../data/fc2b/html/135/wwide1225.blog.fc2.com#blog-entry-5030.html\n",
      "ParserError. Document is empty ../../data/fc2b/html/135/life39naturel.blog.fc2.com#blog-entry-5203.html\n"
     ]
    },
    {
     "name": "stderr",
     "output_type": "stream",
     "text": [
      "100%|███████████████████████████████████████████████████████████████████████████████████████████████████████████████████████████████████████████████████████████████████████████| 10/10 [00:00<00:00, 20.47it/s]\n"
     ]
    }
   ],
   "source": [
    "data = []\n",
    "for path in tqdm(glob.glob('../../data/fc2b/**/*.html', recursive=True)[:10]):\n",
    "    entry = path.split('/')[-1]\n",
    "    subgenre_id = path.split('/')[-2]\n",
    "    toxicity = 1 if genre_id in toxicity_genres else 0\n",
    "    try:\n",
    "        title, summary = extract_content_text(open(path).read())\n",
    "        if summary.strip():\n",
    "            data.append({\n",
    "                'blog': entry.split('#')[0],\n",
    "                'entry': entry.split('#')[1],\n",
    "                'genre_id': subgenre2genre[subgenre_id][0],\n",
    "                'genre_name': subgenre2genre[subgenre_id][1],\n",
    "                'subgenre_id': subgenre_id,\n",
    "                'subgenre_name': subgenre2name[subgenre_id],\n",
    "                'toxicity': toxicity,\n",
    "                'title': title,\n",
    "                'text': summary\n",
    "            })\n",
    "    except Exception as exc:\n",
    "        print(f\"{type(exc).__name__}. {str(exc)} {path}\")"
   ]
  },
  {
   "cell_type": "code",
   "execution_count": 9,
   "id": "71203e00-e021-4029-bc42-ce0977991492",
   "metadata": {
    "tags": []
   },
   "outputs": [
    {
     "data": {
      "text/plain": [
       "[{'blog': 'dointhemod.blog100.fc2.com',\n",
       "  'entry': 'blog-entry-1537.html',\n",
       "  'genre_id': '15',\n",
       "  'genre_name': 'ファッション・ブランド',\n",
       "  'subgenre_id': '135',\n",
       "  'subgenre_name': '海外ブランド',\n",
       "  'toxicity': 0,\n",
       "  'title': \"Art Gallery Clothing Knitted Polo Shirt 〜 アートギャラリー クロージング “WHARTON” ニットポロシャツ - ドゥインザモッド ブログ | オンラインモッズショップ DoiN' THe MoD の最新情報・名古屋MODシーン情報\",\n",
       "  'text': '英国アートギャラリー クロージングから“WHARTON”ニットポロシャツのネイビーが新入荷。モッズにとって鹿の子ポロシャツといえば2本のティップライン入りが定番。こちらの“WHARTON”ニットポロシャツには襟と前立てに2本のハンド風ステッチが施される。スポーティでカジュアルな鹿の子ポロに対して上品でシックな印象のニットポロにステッチ仕上げはとても相性が良い。そしてModが好むニットポロの基本ディテールであるヴィンテージポロのような存在感のある襟、クラシックな3つボタンを装備。飾りすぎない控えめなデザインだからこそ合わせやすいという利点も。オンラインショップhttps://dointhemod.com/?pid=183773231'},\n",
       " {'blog': 'shirokiyagofukuten.blog.fc2.com',\n",
       "  'entry': 'blog-entry-4083.html',\n",
       "  'genre_id': '15',\n",
       "  'genre_name': 'ファッション・ブランド',\n",
       "  'subgenre_id': '135',\n",
       "  'subgenre_name': '海外ブランド',\n",
       "  'toxicity': 0,\n",
       "  'title': '白木屋呉服店 赤嶺猛さんの琉球絣の帯合わせ',\n",
       "  'text': '第六千三百八十六回目は、赤嶺猛さんの琉球絣の帯合わせです。今日は使い残し画像です。いちばん上の写真は、菱一の押絵の名古屋帯を合わせてみました。押絵の帯を初めて見たとき、面白いものだなあと感心しましたが、その後次々に発売されて値段が崩れていきました。押絵というのはカルチャーセンターでも教えていますし、けっこうやっている人がいたんですね。今はそれも落ち着いていますが。写真２番目は、丹波布の八寸の名古屋帯を合わせてみました。丹波布は木綿で少し絹が混じっている手織りの織物です。制作は丹波布伝承館となっています。写真３番目は、深石美穂さんの川平織の名古屋帯を合わせてみました。絣と花織の併用です。深石さんは沖縄の織り技法のほとんどをマスターしていて、本物の伝統技法でありつつ創作的でもある作品をつくっています。写真４番目は、秋山真和の花織による八寸の名古屋帯を合わせてみました。首里織の技法の１つである花織のうち、裏に渡り糸があるのが特徴の綜絖花織です。模様の色と地色とのコントラストを楽しむ技法ですが、地色をグラデーションにしているので、コントラストとグラデーションが混在し色の関係が複雑になっています。作家モノは遊びが上手いですね。写真５番目は、帯屋捨松の八寸の名古屋帯「七宝文」を合わせてみました。写真６番目は、紫紘の八寸の名古屋を合わせてみました。タイトルがわからなくなってしまいましたが、エジプトをテーマにしたように見えますね。駱駝の隊商とピラミッドは分かりますが、力士みたいなのは大砂嵐？'},\n",
       " {'blog': 'dointhemod.blog100.fc2.com',\n",
       "  'entry': 'blog-entry-1521.html',\n",
       "  'genre_id': '15',\n",
       "  'genre_name': 'ファッション・ブランド',\n",
       "  'subgenre_id': '135',\n",
       "  'subgenre_name': '海外ブランド',\n",
       "  'toxicity': 0,\n",
       "  'title': \"BLACK FRIDAY SALE 11/21〜11/28まで開催 - ドゥインザモッド ブログ | オンラインモッズショップ DoiN' THe MoD の最新情報・名古屋MODシーン情報\",\n",
       "  'text': \"欧米では1年で最大のセールBLACK FRIDAYをご存知でしょうか。アメリカ合衆国の感謝祭（11月の第4木曜日）の翌日に行われるBLACK FRIDAYは、年末商戦の幕開けを告げるイベントでもあリます。ここ日本でも8年前からイオンがスタート、楽天なども続きじわじわと認知され始めていましたが、5年前にAmazonも加わり一大セールとしてますます定着していきそうな状況です。常に英国の情報を得ているDoiN’ THe MoDとしても現地の慣習にならい今年で7年連続となるBLACK FRIDAY SALEを開催します。11月21日（木）〜11月28日（木）までの期間中、定番アイテムから季節アイテムまで最大50%OFFの特別セールとなります。実は、1年でPop Gear Tシャツが全品30%OFFになるのはBLACK FRIDAY SALEだけ！こちらのご案内はメルマガ独占でお届けしています。SNS等での一般向け告知は22日に発信予定です。Don't miss out!開催日程：11月21日（木）〜11月28日（木）まで割引特典：最大50%OFF対象商品：BLACK FRIDAY ページをご覧ください→ http://dointhemod.com/?mode=grp&gid=2035777&sort=n※セール期間中はたいへん混み合うことが予想されます。ご入金確認後、最大で7営業日程度発送に日数をいただく場合がございます。予めご了承ください。※尚、セール期間中は送料無料サービスを休止させていただきます。是非この機会をお見逃しなく。\"},\n",
       " {'blog': 'glitterblue.blog56.fc2.com',\n",
       "  'entry': 'blog-entry-4804.html',\n",
       "  'genre_id': '15',\n",
       "  'genre_name': 'ファッション・ブランド',\n",
       "  'subgenre_id': '135',\n",
       "  'subgenre_name': '海外ブランド',\n",
       "  'toxicity': 0,\n",
       "  'title': \"Poisson d'avril = BGMのシール =\",\n",
       "  'text': '最近買ったBGMのシール。かわいくって、ついつい買ってしまいました。オーロラ箔のシートシールはIRIDE。花火の柄を買いました。おとぎ話のシリーズからは、白雪姫を買いました。このシリーズは、シンデレラと赤ずきん、人魚姫もラインナップされてます。全部欲しかったけど、ぐっと我慢して白雪姫だけ買いました。そして、リトルフォレストのぬくもりの森。このシリーズもどれもカワイイ。やさしい雰囲気のシールです。そして、喫茶アラモードのシリーズを3つ。冬限定メニュー。スノーフレークモチールがかわいいです。クリスマス限定柄サンタさんや、ツリーを模したケーキの柄。そして、月夜カクテル。喫茶メニューだけじゃなくて、バーなんじゃないの？？という柄もあるけどカワイイ。'},\n",
       " {'blog': 'hint3252.blog.fc2.com',\n",
       "  'entry': 'blog-entry-3288.html',\n",
       "  'genre_id': '15',\n",
       "  'genre_name': 'ファッション・ブランド',\n",
       "  'subgenre_id': '135',\n",
       "  'subgenre_name': '海外ブランド',\n",
       "  'toxicity': 0,\n",
       "  'title': '🇺🇸GB Sports -SINCE 1922- 🇺🇸から、【CLASSIC FIT SHAWL COLLAR VARSITY JACKET】ご紹介‼️ - hint baybrook',\n",
       "  'text': 'こんばんは🌇12/10(火曜)‼︎ 世界人権デー🇺🇳本日も安定の寒さと冬空の熊本エリア🌤️朝晩の冷え込みの半端なさが続いてます🥶気がつけば今月も中盤に突入、本当に早いものです💦さて本日は先程ストーリーズでご紹介した。。。🇺🇸GB Sports -SINCE 1922- 🇺🇸から、【CLASSIC FIT SHAWL COLLAR VARSITY JACKET】118800yen(tax in)【CLASSIC FIT SHAWL COLLAR VARSITY JACKET】ご紹介💁\\u200d♂️アメリカ・カリフォルニア州の自社工場でこだわりのアワードジャケットを1922年の創業から作り続けているブランドです🧸上質なメルトンのボディーに、しなやかな力ウハイドを使用した一生物と呼ぶにふさわしい逸品🔥襟の折り返しや、袖の擦れを防ぐレザーの切り替えなど、クラシックなディテールで80年の歴史を経てもなお世界中で愛されております✨シンプルなデザインなので合わせやすさはもちろん、ワッペン等でカスタムして頂いても楽しめるかと🙋\\u200d♂️\"made in U.S.A.\"の間違いない逸品を是非店頭に見にいらして下さい\\U0001fae1本日も最後まで、そして引き続きの平日もたくさんのご来店お待ちしております🙇\\u200d♂️ではでは本日はこの辺で。。。失礼致します！！！\\n\\n\\n\\n\\t\\t\\t\\t\\t\\t\\t\\t\\t\\t\\t\\t\\t\\t\\t\\n『通販のご希望・商品についてのお問い合わせは下記までお願い致します』\\n\\n hint baybrook（ヒント ベイブルック）\\n\\ntel:096-359-3252\\n\\nhint.baybrook@gmail.com'},\n",
       " {'blog': 'haganetailor.blog39.fc2.com',\n",
       "  'entry': 'blog-entry-1608.html',\n",
       "  'genre_id': '15',\n",
       "  'genre_name': 'ファッション・ブランド',\n",
       "  'subgenre_id': '135',\n",
       "  'subgenre_name': '海外ブランド',\n",
       "  'toxicity': 0,\n",
       "  'title': '“EMMETI”の名品が進化した、大人のレザーダウン！ - HAGANE TAILOR',\n",
       "  'text': 'こんばんはイシバシです👩今年も残り半月となりましたね💦皆様に支えて頂いての一年でしたので、年内の内に直接お会いして、今年のご挨拶が出来たら良いなと思っています😌12月はお忙しい時期かと思いますが、少し立ち寄って頂けたら嬉しいです☺️本日、✅️De Petrillo→コート/ジャケット✅️Belvest →コート✅️Gabo →コート/ジャケット✅️HERNO →カシミアコート✅️CHAMBODO SELLIER→バッグ新たに入荷致しました❗❗早速今週末のHAGANE、 いかがですか？😊HAGANEらしくゆるりとした店内で、皆様のご来店、元気にお待ちしてまーす😊👋12月に入り、アウター人気が高まっておりますので、今回のブログの主役も、、アウターを✨✨ちょい可愛な、、“HERNO” ♥️リッチに進化した、、“MOORER”✨ご紹介させて頂きましたが、(早速駆け付けて頂き、Getして頂きましたH様、ありがとうございました🙇)今回は、艶やかな色気と、男っぽさを兼ね備えた、“EMMETI“レザーダウンを♥️あの、“EMMETI”の名品、、『JURI』モデルの、ダウンになります！！！なので間違い無く、色っぽな一枚となっています😍👌“EMMETI”の名品が進化した、、『JURI DOWN』が、お披露目です✨✨上質なレザーが、艶やかなレザーの表情を表現した、男っぽさと色気を魅せた、大人のレザーダウンが誕生致しました👏カッコ良い仕上がりです👏長年愛されています、“EMMETI”『JURI』✨その魅力は、皆様ご存知かと思います😊『JURI』の魅力はそのままで、映えるダウンに仕上がりました👏男性のレザースタイルは、やはりカッコ良いですが、、冬のスタイルには、、レイヤードしないと。。💦サラリと一枚でカッコ良いアイテムなので、映えるアウタースタイルを楽しみたいですよね😉レザーライダース特有の、男っぽい表情と、艶やかな色気を合わせた、『JURI DOWN』サラリとキマル一枚です😍👌しなやかで柔らかな上質レザーの光沢感が、また色っぽいですね😍ナイロン素材のダウンとは違う、、“EMMETI”ならではの、レザーが魅せる表情は、街着で映える仕上がりです👏“EMMETI”『JURI』の最大の魅力でもあります、スッキリとしたスマートなシルエットは、『JURI DOWN』に進化しても健在で⭕️ダウンとは思えない程の、美シルエット👏ダウン特有の、モコモコとしたボリュームが苦手な方にでも、ダウンスタイルが楽しめる一枚です😊👌ウエストにかけての、美シルエットもお見事です👏ダウンで、スマートな色気を魅せられる、、新たな一枚ではないでしょうか☺️後ろ姿もスマートで、逆三角形スタイルを、きちんと表現したシルエットとなっています👌嬉しいポイントですね😉ボリュームダウンは卒業したい！レザー好き！男性の欲望を叶えた？大人のレザーダウンの誕生です🙆羊革ダウン80%/フェザー20%203,500円(税込)前回、チラッとだけご紹介しておりました、“Dieffe Kinloch”シルクストール✨早速ご好評頂いておりまして⤴️⤴️今、とっても売れております🙇色違いでお買い上げ頂くケースも多く、既に、、完売のカラーもあります🙇巻き物一枚で、気分もスタイリングの雰囲気も変えられるので、新たなストールは、おすすめですよ😊👌今シーズンも、“Dieffe Kinloch”らしい、色っぽな色柄が集結です❗❗シルク100%素材の、気持ち良～い肌触り♥️他素材のマフラーと比べると、ボリュームが出過ぎない為、使い勝手の良さも魅力です👌更に、しなやかなシルク素材なので、毛羽立ちを気にしなくて良い点も、おすすめです🙆普段使いに、活躍しやすい一枚なのです👏そしてシルク素材は、保温性も高いので、シルク素材のストールは、本当に良いですよ😊👌今シーズンも、ダブルフェイス仕様なので、映える色柄と、無地のカラーの両方を、是非魅せて下さい☺️アイスグレーベース✨ボルドーベース✨ネイビーベース✨ダークグリーンベース✨ライトグレーベース✨全て、、シルク100%37,400円(税込)続いては、ふんわり柔らか素材を♥️薄手素材なので、春迄楽しめる一枚です👌首元が華やぎますね😍グレーベース✨グリーンベース✨ウール100%31,900円(税込)人気アイテムですので、是非お早めに🏃\\u200d♂️💨ギフトにも、おすすめです☺️👌更に冬の盛り上がりが増したHAGANEに、是非遊びにいらして下さい➰☺️👋”EMMETI”の名品、、『JURI』が進化した、大人のレザーダウン！スマートに、ダウンスタイルが楽しめる、艶やかで色っぽな一枚です！！※商品に関するご質問等ありましたら、電話、メール、Instagramダイレクトメールにて、お気軽にお問い合わせ下さい！TEL‥092-733-2186メール‥baybrook. haganet@gmail.comInstagramダイレクトメール‥haganetailo'}]"
      ]
     },
     "execution_count": 9,
     "metadata": {},
     "output_type": "execute_result"
    }
   ],
   "source": [
    "data"
   ]
  },
  {
   "cell_type": "code",
   "execution_count": 10,
   "id": "67fd3420-d3ca-419f-b499-d9779337cdb0",
   "metadata": {},
   "outputs": [],
   "source": [
    "with open('/tmp/fc2b.json', 'w') as f:\n",
    "    json.dump(data, f, ensure_ascii=False, indent=4, sort_keys=True)"
   ]
  },
  {
   "cell_type": "code",
   "execution_count": null,
   "id": "6cf09dcb-709f-449c-8644-49db03deb61e",
   "metadata": {},
   "outputs": [],
   "source": []
  }
 ],
 "metadata": {
  "kernelspec": {
   "display_name": "Python 3 (ipykernel)",
   "language": "python",
   "name": "python3"
  },
  "language_info": {
   "codemirror_mode": {
    "name": "ipython",
    "version": 3
   },
   "file_extension": ".py",
   "mimetype": "text/x-python",
   "name": "python",
   "nbconvert_exporter": "python",
   "pygments_lexer": "ipython3",
   "version": "3.10.12"
  }
 },
 "nbformat": 4,
 "nbformat_minor": 5
}
