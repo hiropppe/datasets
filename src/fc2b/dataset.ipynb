{
 "cells": [
  {
   "cell_type": "code",
   "execution_count": 1,
   "id": "cd5f3003-14a3-477e-9ab6-15fa2b0bb659",
   "metadata": {
    "tags": []
   },
   "outputs": [],
   "source": [
    "%load_ext autoreload\n",
    "%autoreload 1"
   ]
  },
  {
   "cell_type": "code",
   "execution_count": 2,
   "id": "e8102b5b-84ac-4102-97fb-182bbc3b9206",
   "metadata": {
    "tags": []
   },
   "outputs": [],
   "source": [
    "import html2text\n",
    "import httpx\n",
    "import json\n",
    "import lxml\n",
    "import re\n",
    "import glob\n",
    "\n",
    "from lxml import html\n",
    "from extractcontent3 import ExtractContent\n",
    "from readability.readability import Document\n",
    "\n",
    "from tqdm import tqdm"
   ]
  },
  {
   "cell_type": "code",
   "execution_count": 3,
   "id": "eb9f2121-e3db-4d43-b551-300a97f326a1",
   "metadata": {
    "tags": []
   },
   "outputs": [],
   "source": [
    "def extractcontent(html):\n",
    "    extractor = ExtractContent()\n",
    "\n",
    "    opt = {\"threshold\":50}\n",
    "    extractor.set_option(opt)\n",
    "\n",
    "    extractor.analyse(html)\n",
    "    text, title = extractor.as_text()\n",
    "    html, title = extractor.as_html()\n",
    "    title = extractor.extract_title(html)\n",
    "    return text\n",
    "\n",
    "def readability(html):\n",
    "    doc = Document(html)\n",
    "    title = doc.title()\n",
    "    summary = doc.summary()\n",
    "    #text1 = html2text.html2text(article)\n",
    "    summary_text = lxml.html.fromstring(summary).text_content().strip()\n",
    "    #return text1 + '\\n---\\n' + text2\n",
    "    return title, summary_text"
   ]
  },
  {
   "cell_type": "code",
   "execution_count": 7,
   "id": "afce78cd-b662-4f89-b839-1540e6743bc8",
   "metadata": {
    "tags": []
   },
   "outputs": [
    {
     "name": "stdout",
     "output_type": "stream",
     "text": [
      "1  2  3\n"
     ]
    }
   ],
   "source": [
    "!ls ../../data/fc2b/html"
   ]
  },
  {
   "cell_type": "code",
   "execution_count": 8,
   "id": "9ea54d4d-496f-497d-9429-7a3d2983cb4e",
   "metadata": {
    "tags": []
   },
   "outputs": [],
   "source": [
    "headers = {}\n",
    "cookies = {'age_check': '1'}"
   ]
  },
  {
   "cell_type": "code",
   "execution_count": 9,
   "id": "bb1f5d2e-d3a9-44ba-9026-0a2f608ce92a",
   "metadata": {
    "tags": []
   },
   "outputs": [],
   "source": [
    "toxicity_genres = (333, 334, 335, 336, 337, 338, 339, 340, 341, 342, 343, 344, 345, 378, 379, 381)"
   ]
  },
  {
   "cell_type": "code",
   "execution_count": 10,
   "id": "0136af57-0ac2-4823-98e7-35958a633b64",
   "metadata": {
    "tags": []
   },
   "outputs": [],
   "source": [
    "genre_list = httpx.get('https://blog.fc2.com/genrelist/', headers=headers, cookies=cookies)\n",
    "genre_groups = html.fromstring(genre_list.text).xpath('//*[@class=\"genre_group\"]')\n",
    "genre_data = []\n",
    "for group in genre_groups:\n",
    "    genre = group.xpath('./h3/a')[0]\n",
    "    genre_id = genre.attrib['href'].strip().split('/')[-2]\n",
    "    genre_text = genre.text.strip()\n",
    "    \n",
    "    children = []\n",
    "    subgenres = group.xpath('./ul/li/a')\n",
    "    for node in subgenres:\n",
    "        subgenre_id = re.findall(r'/subgenre/([0-9]+)/', node.attrib['href'])[0]\n",
    "        subgenre_text = ''.join(node.itertext()).strip()\n",
    "        children.append({\n",
    "            'id': subgenre_id,\n",
    "            'name': subgenre_text\n",
    "        })\n",
    "\n",
    "    genre_data.append({\n",
    "        'id': genre_id,\n",
    "        'name': genre_text,\n",
    "        'subgenre': children\n",
    "    })\n",
    "    \n",
    "subgenre2genre = {subgenre['id']: (genre['id'], genre['name']) for genre in genre_data for subgenre in genre['subgenre']}\n",
    "subgenre2name = {subgenre['id']: subgenre['name'] for genre in genre_data for subgenre in genre['subgenre']}"
   ]
  },
  {
   "cell_type": "code",
   "execution_count": 15,
   "id": "eac8889a-3243-416a-9364-c26d24c0c155",
   "metadata": {
    "tags": []
   },
   "outputs": [
    {
     "name": "stderr",
     "output_type": "stream",
     "text": [
      "100%|███████████████████████████████████████████████████████████████████████████████████████████████████████████████████████████████████████████████████████████████████████████| 10/10 [00:00<00:00, 12.36it/s]"
     ]
    },
    {
     "name": "stdout",
     "output_type": "stream",
     "text": [
      "ParserError. Document is empty ../../data/fc2b/html/1/kzkobo.blog.fc2.com#blog-entry-5819.html\n",
      "ParserError. Document is empty ../../data/fc2b/html/1/gayaminami.blog.fc2.com#blog-entry-483.html\n"
     ]
    },
    {
     "name": "stderr",
     "output_type": "stream",
     "text": [
      "\n"
     ]
    }
   ],
   "source": [
    "data = []\n",
    "for path in tqdm(glob.glob('../../data/fc2b/**/*.html', recursive=True)[:10]):\n",
    "    entry = path.split('/')[-1]\n",
    "    subgenre_id = path.split('/')[-2]\n",
    "    toxicity = 1 if genre_id in toxicity_genres else 0\n",
    "    try:\n",
    "        title, summary = readability(open(path).read())\n",
    "        if summary.strip():\n",
    "            data.append({\n",
    "                'blog': entry.split('#')[0],\n",
    "                'entry': entry.split('#')[1],\n",
    "                'genre_id': subgenre2genre[subgenre_id][0],\n",
    "                'genre_name': subgenre2genre[subgenre_id][1],\n",
    "                'subgenre_id': subgenre_id,\n",
    "                'subgenre_name': subgenre2name[subgenre_id],\n",
    "                'toxicity': toxicity,\n",
    "                'title': title,\n",
    "                'text': summary\n",
    "            })\n",
    "    except Exception as exc:\n",
    "        print(f\"{type(exc).__name__}. {str(exc)} {path}\")"
   ]
  },
  {
   "cell_type": "code",
   "execution_count": 16,
   "id": "71203e00-e021-4029-bc42-ce0977991492",
   "metadata": {
    "tags": []
   },
   "outputs": [
    {
     "data": {
      "text/plain": [
       "{'blog': '5ball.blog113.fc2.com',\n",
       " 'entry': 'blog-entry-1052.html',\n",
       " 'genre_id': '7',\n",
       " 'genre_name': '日記',\n",
       " 'subgenre_id': '1',\n",
       " 'subgenre_name': '小学生',\n",
       " 'toxicity': 0,\n",
       " 'title': 'シンクロニシティのジャグリング教室 - 11月26日 18:30 910回目',\n",
       " 'text': 'Author:シンクロニシティ\\nチャチャとラガーの二人組。ショーも見に来てね！'}"
      ]
     },
     "execution_count": 16,
     "metadata": {},
     "output_type": "execute_result"
    }
   ],
   "source": [
    "data[0]"
   ]
  },
  {
   "cell_type": "code",
   "execution_count": 9,
   "id": "67fd3420-d3ca-419f-b499-d9779337cdb0",
   "metadata": {},
   "outputs": [],
   "source": [
    "with open('/tmp/fc2b.json', 'w') as f:\n",
    "    json.dump(data, f, ensure_ascii=False, indent=4, sort_keys=True)"
   ]
  },
  {
   "cell_type": "code",
   "execution_count": null,
   "id": "6cf09dcb-709f-449c-8644-49db03deb61e",
   "metadata": {},
   "outputs": [],
   "source": []
  }
 ],
 "metadata": {
  "kernelspec": {
   "display_name": "Python 3 (ipykernel)",
   "language": "python",
   "name": "python3"
  },
  "language_info": {
   "codemirror_mode": {
    "name": "ipython",
    "version": 3
   },
   "file_extension": ".py",
   "mimetype": "text/x-python",
   "name": "python",
   "nbconvert_exporter": "python",
   "pygments_lexer": "ipython3",
   "version": "3.10.12"
  }
 },
 "nbformat": 4,
 "nbformat_minor": 5
}
