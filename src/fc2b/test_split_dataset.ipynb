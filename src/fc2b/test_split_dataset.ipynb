{
 "cells": [
  {
   "cell_type": "code",
   "execution_count": 1,
   "id": "1d5619f2-9b04-4cd0-b225-c7cf83f473ba",
   "metadata": {
    "tags": []
   },
   "outputs": [],
   "source": [
    "import itertools\n",
    "import numpy as np\n",
    "import pandas as pd\n",
    "\n",
    "import plotly.express as px\n",
    "import plotly.graph_objects as go\n",
    "from plotly.subplots import make_subplots\n",
    "\n",
    "import plotly.io as pio\n",
    "pio.renderers.default = 'iframe'\n",
    "\n",
    "pd.options.display.max_rows = 100"
   ]
  },
  {
   "cell_type": "code",
   "execution_count": 2,
   "id": "c087a42c-2210-4670-a594-a3b008556a9b",
   "metadata": {
    "tags": []
   },
   "outputs": [
    {
     "data": {
      "text/html": [
       "<div>\n",
       "<style scoped>\n",
       "    .dataframe tbody tr th:only-of-type {\n",
       "        vertical-align: middle;\n",
       "    }\n",
       "\n",
       "    .dataframe tbody tr th {\n",
       "        vertical-align: top;\n",
       "    }\n",
       "\n",
       "    .dataframe thead th {\n",
       "        text-align: right;\n",
       "    }\n",
       "</style>\n",
       "<table border=\"1\" class=\"dataframe\">\n",
       "  <thead>\n",
       "    <tr style=\"text-align: right;\">\n",
       "      <th></th>\n",
       "      <th>blog</th>\n",
       "      <th>entry</th>\n",
       "      <th>genre_id</th>\n",
       "      <th>genre_name</th>\n",
       "      <th>subgenre_id</th>\n",
       "      <th>subgenre_name</th>\n",
       "      <th>text</th>\n",
       "      <th>title</th>\n",
       "      <th>toxicity</th>\n",
       "    </tr>\n",
       "  </thead>\n",
       "  <tbody>\n",
       "    <tr>\n",
       "      <th>12073</th>\n",
       "      <td>kaguratokyo.blog9.fc2.com</td>\n",
       "      <td>blog-entry-5393.html</td>\n",
       "      <td>13</td>\n",
       "      <td>アイドル・芸能</td>\n",
       "      <td>123</td>\n",
       "      <td>その他</td>\n",
       "      <td>丹下桜さんが Voidoll と Bugdoll 役で出演されているゲーム「 #コンパス」の...</td>\n",
       "      <td>桜色の日々 アニメ「 #コンパス2ꓸ0 」放送開始月決定！</td>\n",
       "      <td>0</td>\n",
       "    </tr>\n",
       "    <tr>\n",
       "      <th>7542</th>\n",
       "      <td>ken0314.blog.fc2.com</td>\n",
       "      <td>blog-entry-2888.html</td>\n",
       "      <td>41</td>\n",
       "      <td>心と身体</td>\n",
       "      <td>314</td>\n",
       "      <td>メンタルヘルス</td>\n",
       "      <td>「学校ほど閉鎖的な組織はない」　いじめ自殺「代理人」が挑む闘い方編集委員・石橋英昭•\\t• ...</td>\n",
       "      <td>「学校ほど「学校ほど閉鎖的な組織はない」 いじめ自殺「代理人」が挑む闘い方 - 田中幸子のひ...</td>\n",
       "      <td>0</td>\n",
       "    </tr>\n",
       "    <tr>\n",
       "      <th>7060</th>\n",
       "      <td>gharrierjp.blog.fc2.com</td>\n",
       "      <td>blog-entry-4051.html</td>\n",
       "      <td>22</td>\n",
       "      <td>ブログ</td>\n",
       "      <td>19</td>\n",
       "      <td>写真ブログ</td>\n",
       "      <td>【悲報】指定暴力団「稼いだ金はポケモンカードに変えてマネロン。海外に持ち出して現地で現金化す...</td>\n",
       "      <td>２４／１２／１７の日記～リアルにでかい金が動く二度と経験できない懐かしい過去｜豪雪地帯酒店・...</td>\n",
       "      <td>0</td>\n",
       "    </tr>\n",
       "    <tr>\n",
       "      <th>11798</th>\n",
       "      <td>ginmaku3.blog25.fc2.com</td>\n",
       "      <td>blog-entry-3757.html</td>\n",
       "      <td>30</td>\n",
       "      <td>映画</td>\n",
       "      <td>46</td>\n",
       "      <td>ファンタジー</td>\n",
       "      <td>古今東西の映画・洋画・邦画・ドラマのカスタムＤＶＤ、Blu-rayラベルを公開しています！</td>\n",
       "      <td>GINMAKU Custom DVD＆Blu-ray labels blog版／映画・洋画・...</td>\n",
       "      <td>0</td>\n",
       "    </tr>\n",
       "    <tr>\n",
       "      <th>9977</th>\n",
       "      <td>ponko69.blog118.fc2.com</td>\n",
       "      <td>blog-entry-7174.html</td>\n",
       "      <td>9</td>\n",
       "      <td>政治・経済</td>\n",
       "      <td>55</td>\n",
       "      <td>政治活動</td>\n",
       "      <td>＊Comment\\n\\n\\n★泥棒が人を泥棒呼ばわりするニチホ\\n「政策がこのように間違って...</td>\n",
       "      <td>反日勢力を斬る 百・有、文春のインタビューに切れるの愚</td>\n",
       "      <td>0</td>\n",
       "    </tr>\n",
       "    <tr>\n",
       "      <th>2729</th>\n",
       "      <td>youkaitouzai.blog97.fc2.com</td>\n",
       "      <td>blog-entry-5906.html</td>\n",
       "      <td>6</td>\n",
       "      <td>ニュース</td>\n",
       "      <td>355</td>\n",
       "      <td>時事</td>\n",
       "      <td>▼12.13 フランス、あらたにフランソワ・バイルを総理大臣に任命。就任演説では「目の前に高...</td>\n",
       "      <td>妖界東西新聞 まる煮え入る</td>\n",
       "      <td>0</td>\n",
       "    </tr>\n",
       "    <tr>\n",
       "      <th>6146</th>\n",
       "      <td>tulip18.blog75.fc2.com</td>\n",
       "      <td>blog-entry-657.html</td>\n",
       "      <td>41</td>\n",
       "      <td>心と身体</td>\n",
       "      <td>312</td>\n",
       "      <td>病気・症状</td>\n",
       "      <td>毎月通院している内科へ行って、年に1度の検査結果を聞いてきた。何も問題なく、数値も良かった☆...</td>\n",
       "      <td>重い食アレと喘息・小児リウマチ予備軍の娘のおはなし インフルが流行りだしたぞぉぉ～</td>\n",
       "      <td>0</td>\n",
       "    </tr>\n",
       "    <tr>\n",
       "      <th>5957</th>\n",
       "      <td>shokoty.blog121.fc2.com</td>\n",
       "      <td>blog-entry-5026.html</td>\n",
       "      <td>41</td>\n",
       "      <td>心と身体</td>\n",
       "      <td>315</td>\n",
       "      <td>癒し</td>\n",
       "      <td>今年最後の満月の夜から　２日が経ち...２階にいた夫が　「おーい　月が出たで」とそんな事　滅...</td>\n",
       "      <td>ハワイ発 まぁるい氣を貴方に 寒月 (Cold Moon)</td>\n",
       "      <td>0</td>\n",
       "    </tr>\n",
       "    <tr>\n",
       "      <th>10880</th>\n",
       "      <td>katsuraomura.blog.fc2.com</td>\n",
       "      <td>blog-entry-1007.html</td>\n",
       "      <td>39</td>\n",
       "      <td>福祉・ボランティア</td>\n",
       "      <td>276</td>\n",
       "      <td>ボランティア</td>\n",
       "      <td>こんにちわ。「かつらお動物見守り隊」です。　今回は、訃報です。　実はもう３ケ月前のことだった...</td>\n",
       "      <td>かつらお動物見守り隊 - 福島の被災犬、空くん（旧名ボウボウ）、亡くなりました。</td>\n",
       "      <td>0</td>\n",
       "    </tr>\n",
       "    <tr>\n",
       "      <th>12927</th>\n",
       "      <td>blauekatze777.blog.fc2.com</td>\n",
       "      <td>blog-entry-401.html</td>\n",
       "      <td>10</td>\n",
       "      <td>ゲーム</td>\n",
       "      <td>71</td>\n",
       "      <td>RPG</td>\n",
       "      <td>おはようございますっ　とりあえず丼の方でも告知したのでこちらでも！ここの所体調崩して寝てたり...</td>\n",
       "      <td>12/22(日)ルティエフリマ＆オークション情報 追加っ - RO B鯖フリマ</td>\n",
       "      <td>0</td>\n",
       "    </tr>\n",
       "  </tbody>\n",
       "</table>\n",
       "</div>"
      ],
      "text/plain": [
       "                              blog                 entry genre_id genre_name  \\\n",
       "12073    kaguratokyo.blog9.fc2.com  blog-entry-5393.html       13    アイドル・芸能   \n",
       "7542          ken0314.blog.fc2.com  blog-entry-2888.html       41       心と身体   \n",
       "7060       gharrierjp.blog.fc2.com  blog-entry-4051.html       22        ブログ   \n",
       "11798      ginmaku3.blog25.fc2.com  blog-entry-3757.html       30         映画   \n",
       "9977       ponko69.blog118.fc2.com  blog-entry-7174.html        9      政治・経済   \n",
       "2729   youkaitouzai.blog97.fc2.com  blog-entry-5906.html        6       ニュース   \n",
       "6146        tulip18.blog75.fc2.com   blog-entry-657.html       41       心と身体   \n",
       "5957       shokoty.blog121.fc2.com  blog-entry-5026.html       41       心と身体   \n",
       "10880    katsuraomura.blog.fc2.com  blog-entry-1007.html       39  福祉・ボランティア   \n",
       "12927   blauekatze777.blog.fc2.com   blog-entry-401.html       10        ゲーム   \n",
       "\n",
       "       subgenre_id subgenre_name  \\\n",
       "12073          123           その他   \n",
       "7542           314       メンタルヘルス   \n",
       "7060            19         写真ブログ   \n",
       "11798           46        ファンタジー   \n",
       "9977            55          政治活動   \n",
       "2729           355            時事   \n",
       "6146           312         病気・症状   \n",
       "5957           315            癒し   \n",
       "10880          276        ボランティア   \n",
       "12927           71           RPG   \n",
       "\n",
       "                                                    text  \\\n",
       "12073  丹下桜さんが Voidoll と Bugdoll 役で出演されているゲーム「 #コンパス」の...   \n",
       "7542   「学校ほど閉鎖的な組織はない」　いじめ自殺「代理人」が挑む闘い方編集委員・石橋英昭•\\t• ...   \n",
       "7060   【悲報】指定暴力団「稼いだ金はポケモンカードに変えてマネロン。海外に持ち出して現地で現金化す...   \n",
       "11798      古今東西の映画・洋画・邦画・ドラマのカスタムＤＶＤ、Blu-rayラベルを公開しています！   \n",
       "9977   ＊Comment\\n\\n\\n★泥棒が人を泥棒呼ばわりするニチホ\\n「政策がこのように間違って...   \n",
       "2729   ▼12.13 フランス、あらたにフランソワ・バイルを総理大臣に任命。就任演説では「目の前に高...   \n",
       "6146   毎月通院している内科へ行って、年に1度の検査結果を聞いてきた。何も問題なく、数値も良かった☆...   \n",
       "5957   今年最後の満月の夜から　２日が経ち...２階にいた夫が　「おーい　月が出たで」とそんな事　滅...   \n",
       "10880  こんにちわ。「かつらお動物見守り隊」です。　今回は、訃報です。　実はもう３ケ月前のことだった...   \n",
       "12927  おはようございますっ　とりあえず丼の方でも告知したのでこちらでも！ここの所体調崩して寝てたり...   \n",
       "\n",
       "                                                   title  toxicity  \n",
       "12073                      桜色の日々 アニメ「 #コンパス2ꓸ0 」放送開始月決定！         0  \n",
       "7542   「学校ほど「学校ほど閉鎖的な組織はない」 いじめ自殺「代理人」が挑む闘い方 - 田中幸子のひ...         0  \n",
       "7060   ２４／１２／１７の日記～リアルにでかい金が動く二度と経験できない懐かしい過去｜豪雪地帯酒店・...         0  \n",
       "11798  GINMAKU Custom DVD＆Blu-ray labels blog版／映画・洋画・...         0  \n",
       "9977                         反日勢力を斬る 百・有、文春のインタビューに切れるの愚         0  \n",
       "2729                                       妖界東西新聞 まる煮え入る         0  \n",
       "6146           重い食アレと喘息・小児リウマチ予備軍の娘のおはなし インフルが流行りだしたぞぉぉ～         0  \n",
       "5957                       ハワイ発 まぁるい氣を貴方に 寒月 (Cold Moon)         0  \n",
       "10880           かつらお動物見守り隊 - 福島の被災犬、空くん（旧名ボウボウ）、亡くなりました。         0  \n",
       "12927            12/22(日)ルティエフリマ＆オークション情報 追加っ - RO B鯖フリマ         0  "
      ]
     },
     "execution_count": 2,
     "metadata": {},
     "output_type": "execute_result"
    }
   ],
   "source": [
    "df = pd.read_json('../../data/fc2b/fc2b.json')\n",
    "df.sample(10)"
   ]
  },
  {
   "cell_type": "code",
   "execution_count": 3,
   "id": "2a88b9f9-2522-479a-b331-fce335221605",
   "metadata": {
    "tags": []
   },
   "outputs": [
    {
     "data": {
      "text/plain": [
       "[array(['ファッション・ブランド', '独身・フリー', 'オンラインゲーム', '小説・文学', 'アダルト', 'ギャンブル',\n",
       "        '恋愛', '本・雑誌', '車・バイク', '映画', 'サブカル', '政治・経済', '趣味・実用', '音楽', 'ペット',\n",
       "        '育児', '日記', 'グルメ', '謎', 'ニュース', '携帯電話・PHS', '地域情報', 'コンピュータ',\n",
       "        '学問・文化・芸術', '福祉・ボランティア', '学校・教育', '海外情報', 'お笑い', '写真', 'スポーツ',\n",
       "        'ファイナンス', 'ビジネス', 'ヘルス・ダイエット', 'ライフ', '株式・投資・マネー', 'ブログ',\n",
       "        'アフィリエイト', '結婚・家庭生活', 'ゲーム', '就職・お仕事', 'テレビ・ラジオ', 'アイドル・芸能',\n",
       "        'アニメ・コミック', '心と身体', 'モブログ', 'その他', '旅行'], dtype=object),\n",
       " array([0, 1])]"
      ]
     },
     "execution_count": 3,
     "metadata": {},
     "output_type": "execute_result"
    }
   ],
   "source": [
    "[df[c].unique() for c in ['genre_name', 'toxicity']]"
   ]
  },
  {
   "cell_type": "code",
   "execution_count": 4,
   "id": "c9c062cd-848d-4b27-835e-d310947d40c6",
   "metadata": {
    "tags": []
   },
   "outputs": [
    {
     "data": {
      "text/html": [
       "<iframe\n",
       "    scrolling=\"no\"\n",
       "    width=\"100%\"\n",
       "    height=\"545px\"\n",
       "    src=\"iframe_figures/figure_4.html\"\n",
       "    frameborder=\"0\"\n",
       "    allowfullscreen\n",
       "></iframe>\n"
      ]
     },
     "metadata": {},
     "output_type": "display_data"
    }
   ],
   "source": [
    "# カテゴリ (y) について、均等に分割する関数\n",
    "def train_test_split(df, columns, test_size=0.1, val_size=None):\n",
    "    def qval(c, v):\n",
    "        if types[c] in (object, ):\n",
    "            return f'\"{v}\"'\n",
    "        else:\n",
    "            return v;\n",
    "\n",
    "    types = df[columns].dtypes\n",
    "    value_sets = [df[c].unique() for c in columns]\n",
    "\n",
    "    prod = [p for p in itertools.product(*value_sets)]\n",
    "\n",
    "    all_train_indices, all_test_indices, all_val_indices = [], [], []\n",
    "\n",
    "    for p in prod:\n",
    "        q = ' & '.join([f'{c[0]} == {qval(c[0], c[1])}' for c in zip(columns, p)])\n",
    "        data = df.query(q)\n",
    "        indices = data.index.values\n",
    "        np.random.shuffle(indices)\n",
    "        \n",
    "        n_test = int(len(indices) * test_size)\n",
    "        test_indices = indices[:n_test]\n",
    "        train_indices = indices[n_test:]\n",
    "\n",
    "        if val_size:\n",
    "            n_val = int(len(indices) * val_size)\n",
    "            val_indices = train_indices[:n_val]\n",
    "            train_indices = train_indices[n_val:]\n",
    "            all_val_indices.extend(val_indices)\n",
    "\n",
    "        all_train_indices.extend(train_indices)\n",
    "        all_test_indices.extend(test_indices)\n",
    "\n",
    "    np.random.shuffle(all_train_indices)\n",
    "    np.random.shuffle(all_test_indices)\n",
    "    \n",
    "    if val_size:\n",
    "        np.random.shuffle(all_val_indices)\n",
    "        return all_train_indices, all_test_indices, all_val_indices\n",
    "    else:\n",
    "        return all_train_indices, all_test_indices\n",
    "\n",
    "\n",
    "def plot(train_indices, test_indices):\n",
    "    fig = go.Figure()\n",
    "    fig.add_trace(go.Histogram(name='train', x=df.iloc[train_indices][\"genre_name\"].values))\n",
    "    fig.add_trace(go.Histogram(name='test', x=df.iloc[test_indices][\"genre_name\"].values))\n",
    "    fig.update_layout(barmode='group')\n",
    "    fig.update_traces(opacity=0.5)\n",
    "    fig.update_xaxes(categoryorder=\"total descending\")\n",
    "    fig.show()\n",
    "\n",
    "train_indices, test_indices = train_test_split(df, columns=['genre_name'], test_size=0.25)\n",
    "\n",
    "plot(train_indices, test_indices)"
   ]
  },
  {
   "cell_type": "code",
   "execution_count": 5,
   "id": "3e3b28ee-3581-4d80-b2b8-30ec84a9ef3d",
   "metadata": {
    "tags": []
   },
   "outputs": [
    {
     "data": {
      "text/html": [
       "<iframe\n",
       "    scrolling=\"no\"\n",
       "    width=\"100%\"\n",
       "    height=\"545px\"\n",
       "    src=\"iframe_figures/figure_5.html\"\n",
       "    frameborder=\"0\"\n",
       "    allowfullscreen\n",
       "></iframe>\n"
      ]
     },
     "metadata": {},
     "output_type": "display_data"
    }
   ],
   "source": [
    "# あとから知った別解 (stratify)\n",
    "from sklearn.model_selection import train_test_split\n",
    "\n",
    "X_train, X_test, y_train, y_test = train_test_split(df.index.values,\n",
    "                                                    df.genre_id,\n",
    "                                                    test_size=0.25,\n",
    "                                                    random_state=42,\n",
    "                                                    stratify=df.genre_id)\n",
    "\n",
    "plot(train_indices, test_indices)"
   ]
  },
  {
   "cell_type": "code",
   "execution_count": 6,
   "id": "a4334255-6eae-4ce2-aa6d-2a56dd7a6f68",
   "metadata": {
    "tags": []
   },
   "outputs": [],
   "source": [
    "def categorical_kfold(df, columns, K=3, val_size=None):\n",
    "    def qval(c, v):\n",
    "        if types[c] in (object, ):\n",
    "            return f'\"{v}\"'\n",
    "        else:\n",
    "            return v;\n",
    "\n",
    "    types = df[columns].dtypes\n",
    "    value_sets = [df[c].unique() for c in columns]\n",
    "\n",
    "    prod = [p for p in itertools.product(*value_sets)]\n",
    "\n",
    "    folds = [[] for _ in range(K)]\n",
    "    if val_size:\n",
    "        val_folds = [[] for _ in range(K)]\n",
    "\n",
    "    for p in prod:\n",
    "        q = ' & '.join([f'{c[0]} == {qval(c[0], c[1])}' for c in zip(columns, p)])\n",
    "        data = df.query(q)\n",
    "        indices = data.index.values\n",
    "        np.random.shuffle(indices)\n",
    "        \n",
    "        for i, split in enumerate(np.array_split(indices, K)):\n",
    "            if val_size:\n",
    "                val_len = int(len(split) * val_size)\n",
    "                folds[i].append(split[val_len:])\n",
    "                val_folds[i].append(split[:val_len])\n",
    "            else:\n",
    "                folds[i].append(split)\n",
    "\n",
    "    folds = [np.hstack(fold) for fold in folds]\n",
    "    if val_size:\n",
    "        val_folds = [np.hstack(fold) for fold in val_folds]        \n",
    "\n",
    "    for n in range(K):\n",
    "        train_indices = np.hstack([indices for i, indices in enumerate(folds) if i != n])\n",
    "        if val_size:\n",
    "            val_indices = np.hstack([indices for i, indices in enumerate(val_folds) if i != n])\n",
    "            test_indices = np.r_[folds[n], val_folds[n]]\n",
    "            yield train_indices, val_indices, test_indices\n",
    "        else:\n",
    "            test_indices = folds[n]\n",
    "            yield train_indices, test_indices\n",
    "\n",
    "data = [(train_indices, test_indices) for (train_indices, test_indices) in categorical_kfold(df, columns=['genre_name', 'toxicity'], K=3)]\n",
    "\n",
    "def plot_kfold(data):\n",
    "    fig = make_subplots(rows=len(data), cols=1, shared_xaxes=True, vertical_spacing = 0.03)\n",
    "    for i, (train_indices, test_indices) in enumerate(data):\n",
    "        fig.add_trace(go.Histogram(name='train', x=df.iloc[train_indices][\"genre_name\"].values, marker_color=\"blue\"), row=i+1, col=1)\n",
    "        fig.add_trace(go.Histogram(name='test', x=df.iloc[test_indices][\"genre_name\"].values, marker_color=\"red\"), row=i+1, col=1)\n",
    "    fig.update_layout(height=1000, width=1000, barmode='group', margin=dict(t=20, b=0, l=10, r=10), showlegend=False)\n",
    "    fig.update_traces(opacity=0.5)\n",
    "    fig.show()"
   ]
  },
  {
   "cell_type": "code",
   "execution_count": 7,
   "id": "d38d8ac3-c33f-4292-95cf-cb620614b1ed",
   "metadata": {
    "tags": []
   },
   "outputs": [
    {
     "data": {
      "text/html": [
       "<iframe\n",
       "    scrolling=\"no\"\n",
       "    width=\"1020px\"\n",
       "    height=\"1020\"\n",
       "    src=\"iframe_figures/figure_7.html\"\n",
       "    frameborder=\"0\"\n",
       "    allowfullscreen\n",
       "></iframe>\n"
      ]
     },
     "metadata": {},
     "output_type": "display_data"
    }
   ],
   "source": [
    "plot_kfold(data)"
   ]
  },
  {
   "cell_type": "code",
   "execution_count": 8,
   "id": "f92e748c-fa72-43ab-96a0-788045996b3b",
   "metadata": {
    "tags": []
   },
   "outputs": [
    {
     "name": "stderr",
     "output_type": "stream",
     "text": [
      "/root/.cache/pypoetry/virtualenvs/datasets-xcsZ-3kG-py3.10/lib/python3.10/site-packages/sklearn/model_selection/_split.py:805: UserWarning:\n",
      "\n",
      "The least populated class in y has only 2 members, which is less than n_splits=3.\n",
      "\n"
     ]
    }
   ],
   "source": [
    "# あとから知った別解\n",
    "from sklearn.model_selection import StratifiedKFold\n",
    "\n",
    "sk = StratifiedKFold(n_splits=3)\n",
    "data = [(train_indices, test_indices) for (train_indices, test_indices) in sk.split(df.index, df.genre_id)]"
   ]
  },
  {
   "cell_type": "code",
   "execution_count": 9,
   "id": "52d6e1d2-8344-4a33-af2b-d8309bccb18d",
   "metadata": {
    "tags": []
   },
   "outputs": [
    {
     "data": {
      "text/html": [
       "<iframe\n",
       "    scrolling=\"no\"\n",
       "    width=\"1020px\"\n",
       "    height=\"1020\"\n",
       "    src=\"iframe_figures/figure_9.html\"\n",
       "    frameborder=\"0\"\n",
       "    allowfullscreen\n",
       "></iframe>\n"
      ]
     },
     "metadata": {},
     "output_type": "display_data"
    }
   ],
   "source": [
    "plot_kfold(data)"
   ]
  },
  {
   "cell_type": "code",
   "execution_count": 10,
   "id": "d375bab7-7ce2-440e-9b5b-b9751dfe0e4f",
   "metadata": {
    "tags": []
   },
   "outputs": [
    {
     "data": {
      "text/html": [
       "<iframe\n",
       "    scrolling=\"no\"\n",
       "    width=\"1020px\"\n",
       "    height=\"1020\"\n",
       "    src=\"iframe_figures/figure_10.html\"\n",
       "    frameborder=\"0\"\n",
       "    allowfullscreen\n",
       "></iframe>\n"
      ]
     },
     "metadata": {},
     "output_type": "display_data"
    }
   ],
   "source": [
    "data = [(train_indices, val_indices, test_indices)\n",
    "        for (train_indices, val_indices, test_indices)\n",
    "        in categorical_kfold(df, columns=['genre_name', 'toxicity'], K=3, val_size=0.25)]\n",
    "\n",
    "def plot_kfold(data):\n",
    "    fig = make_subplots(rows=len(data), cols=1, shared_xaxes=True, vertical_spacing = 0.03)\n",
    "    for i, (train_indices, val_indices, test_indices) in enumerate(data):\n",
    "        fig.add_trace(go.Histogram(name='train', x=df.iloc[train_indices][\"genre_name\"].values, marker_color=\"blue\"), row=i+1, col=1)\n",
    "        fig.add_trace(go.Histogram(name='validate', x=df.iloc[val_indices][\"genre_name\"].values, marker_color=\"red\"), row=i+1, col=1)\n",
    "        fig.add_trace(go.Histogram(name='test', x=df.iloc[test_indices][\"genre_name\"].values, marker_color=\"green\"), row=i+1, col=1)\n",
    "    fig.update_layout(height=1000, width=1000, barmode='group', margin=dict(t=20, b=0, l=10, r=10), showlegend=False)\n",
    "    fig.update_traces(opacity=0.5)\n",
    "    fig.show()\n",
    "\n",
    "def plot(train_indices, val_indices, test_indices):\n",
    "    fig = go.Figure()\n",
    "    fig.add_trace(go.Histogram(name='train', x=df.iloc[train_indices][\"genre_name\"].values))\n",
    "    fig.add_trace(go.Histogram(name='validate', x=df.iloc[val_indices][\"genre_name\"].values))\n",
    "    fig.add_trace(go.Histogram(name='test', x=df.iloc[test_indices][\"genre_name\"].values))\n",
    "    fig.update_layout(barmode='group')\n",
    "    fig.update_traces(opacity=0.5)\n",
    "    fig.update_xaxes(categoryorder=\"total descending\")\n",
    "    fig.show()\n",
    "\n",
    "plot_kfold(data)"
   ]
  },
  {
   "cell_type": "code",
   "execution_count": 11,
   "id": "02a6d747-429a-4544-b878-5d1a006478a0",
   "metadata": {
    "tags": []
   },
   "outputs": [
    {
     "data": {
      "text/html": [
       "<iframe\n",
       "    scrolling=\"no\"\n",
       "    width=\"100%\"\n",
       "    height=\"545px\"\n",
       "    src=\"iframe_figures/figure_11.html\"\n",
       "    frameborder=\"0\"\n",
       "    allowfullscreen\n",
       "></iframe>\n"
      ]
     },
     "metadata": {},
     "output_type": "display_data"
    }
   ],
   "source": [
    "plot(data[0][0], data[0][1], data[0][2])"
   ]
  },
  {
   "cell_type": "code",
   "execution_count": null,
   "id": "dc3ed967-a9a7-4c63-a70f-09af3723b5a1",
   "metadata": {},
   "outputs": [],
   "source": []
  }
 ],
 "metadata": {
  "kernelspec": {
   "display_name": "Python 3 (ipykernel)",
   "language": "python",
   "name": "python3"
  },
  "language_info": {
   "codemirror_mode": {
    "name": "ipython",
    "version": 3
   },
   "file_extension": ".py",
   "mimetype": "text/x-python",
   "name": "python",
   "nbconvert_exporter": "python",
   "pygments_lexer": "ipython3",
   "version": "3.10.12"
  }
 },
 "nbformat": 4,
 "nbformat_minor": 5
}
