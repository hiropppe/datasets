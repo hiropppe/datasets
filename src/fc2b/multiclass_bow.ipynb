{
 "cells": [
  {
   "cell_type": "code",
   "execution_count": 133,
   "id": "e0bcbf7f-cbe0-4139-878c-67172830f8c2",
   "metadata": {
    "tags": []
   },
   "outputs": [],
   "source": [
    "import MeCab\n",
    "\n",
    "import japanize_matplotlib\n",
    "import matplotlib.pyplot as plt\n",
    "import multiprocessing\n",
    "import numpy as np\n",
    "import pandas as pd\n",
    "import neologdn\n",
    "\n",
    "from functools import reduce\n",
    "from operator import add\n",
    "\n",
    "from sklearn.metrics import classification_report, accuracy_score\n",
    "from sklearn.linear_model import LogisticRegression\n",
    "from sklearn.feature_extraction.text import CountVectorizer, TfidfVectorizer\n",
    "from sklearn.multiclass import OneVsRestClassifier\n",
    "\n",
    "import plotly.express as px\n",
    "import plotly.graph_objects as go\n",
    "\n",
    "from plotly.subplots import make_subplots\n",
    "\n",
    "import plotly.io as pio\n",
    "pio.renderers.default = 'iframe'\n",
    "\n",
    "from tqdm import tqdm"
   ]
  },
  {
   "cell_type": "code",
   "execution_count": 3,
   "id": "9eb66093-eef8-47f6-85a1-b3b9e6ce530a",
   "metadata": {
    "tags": []
   },
   "outputs": [
    {
     "data": {
      "text/html": [
       "<div>\n",
       "<style scoped>\n",
       "    .dataframe tbody tr th:only-of-type {\n",
       "        vertical-align: middle;\n",
       "    }\n",
       "\n",
       "    .dataframe tbody tr th {\n",
       "        vertical-align: top;\n",
       "    }\n",
       "\n",
       "    .dataframe thead th {\n",
       "        text-align: right;\n",
       "    }\n",
       "</style>\n",
       "<table border=\"1\" class=\"dataframe\">\n",
       "  <thead>\n",
       "    <tr style=\"text-align: right;\">\n",
       "      <th></th>\n",
       "      <th>blog</th>\n",
       "      <th>entry</th>\n",
       "      <th>genre_id</th>\n",
       "      <th>genre_name</th>\n",
       "      <th>subgenre_id</th>\n",
       "      <th>subgenre_name</th>\n",
       "      <th>text</th>\n",
       "      <th>title</th>\n",
       "      <th>toxicity</th>\n",
       "    </tr>\n",
       "  </thead>\n",
       "  <tbody>\n",
       "    <tr>\n",
       "      <th>2803</th>\n",
       "      <td>takanenohana55.blog.fc2.com</td>\n",
       "      <td>blog-entry-2925.html</td>\n",
       "      <td>46</td>\n",
       "      <td>趣味・実用</td>\n",
       "      <td>167</td>\n",
       "      <td>アウトドア・キャンプ</td>\n",
       "      <td>新聞にヒマラヤに咲く高嶺の花の写真展が高崎シティギャラリーで開催されていたので見てきました。...</td>\n",
       "      <td>ヒマラヤ大写真展 - 山</td>\n",
       "      <td>0</td>\n",
       "    </tr>\n",
       "    <tr>\n",
       "      <th>10301</th>\n",
       "      <td>ganshoji.blog.fc2.com</td>\n",
       "      <td>blog-entry-1642.html</td>\n",
       "      <td>28</td>\n",
       "      <td>学問・文化・芸術</td>\n",
       "      <td>283</td>\n",
       "      <td>哲学・思想</td>\n",
       "      <td>１２月の法語There are two inevitable things in life....</td>\n",
       "      <td>今月の法語 - 願勝寺のブログ</td>\n",
       "      <td>0</td>\n",
       "    </tr>\n",
       "    <tr>\n",
       "      <th>9107</th>\n",
       "      <td>hanahana1229.blog.fc2.com</td>\n",
       "      <td>blog-entry-2553.html</td>\n",
       "      <td>24</td>\n",
       "      <td>グルメ</td>\n",
       "      <td>190</td>\n",
       "      <td>レシピ</td>\n",
       "      <td>こんにちは！いかがお過ごしですか？課題フードつきジャケットの後ろ身頃を編んでいます。今日は、...</td>\n",
       "      <td>ベターホームを極める＆ル・コルドン・ブルーでパン作り&amp;編み物 後ろ身頃を編んでいます♪</td>\n",
       "      <td>0</td>\n",
       "    </tr>\n",
       "    <tr>\n",
       "      <th>5431</th>\n",
       "      <td>utasuki0907.blog.fc2.com</td>\n",
       "      <td>blog-entry-3113.html</td>\n",
       "      <td>7</td>\n",
       "      <td>日記</td>\n",
       "      <td>7</td>\n",
       "      <td>主婦</td>\n",
       "      <td>Author:ルミネ\\nルミネのブログへようこそ！２０１１年１０月からブログを始めました。花...</td>\n",
       "      <td>虹 | ルミネの日記</td>\n",
       "      <td>0</td>\n",
       "    </tr>\n",
       "    <tr>\n",
       "      <th>8690</th>\n",
       "      <td>egigagion.blog.fc2.com</td>\n",
       "      <td>blog-entry-3133.html</td>\n",
       "      <td>51</td>\n",
       "      <td>その他</td>\n",
       "      <td>332</td>\n",
       "      <td>その他</td>\n",
       "      <td>[PR]サラリーマンをやめて起業したのですが、借金だけが残り、お先真っ暗状態です（苦笑）「天...</td>\n",
       "      <td>天才脳開発パーフェクトブレインの東大医師・森田敏宏 wiki 情報 評判は？ - ココロ社</td>\n",
       "      <td>0</td>\n",
       "    </tr>\n",
       "  </tbody>\n",
       "</table>\n",
       "</div>"
      ],
      "text/plain": [
       "                              blog                 entry genre_id genre_name  \\\n",
       "2803   takanenohana55.blog.fc2.com  blog-entry-2925.html       46      趣味・実用   \n",
       "10301        ganshoji.blog.fc2.com  blog-entry-1642.html       28   学問・文化・芸術   \n",
       "9107     hanahana1229.blog.fc2.com  blog-entry-2553.html       24        グルメ   \n",
       "5431      utasuki0907.blog.fc2.com  blog-entry-3113.html        7         日記   \n",
       "8690        egigagion.blog.fc2.com  blog-entry-3133.html       51        その他   \n",
       "\n",
       "       subgenre_id subgenre_name  \\\n",
       "2803           167    アウトドア・キャンプ   \n",
       "10301          283         哲学・思想   \n",
       "9107           190           レシピ   \n",
       "5431             7            主婦   \n",
       "8690           332           その他   \n",
       "\n",
       "                                                    text  \\\n",
       "2803   新聞にヒマラヤに咲く高嶺の花の写真展が高崎シティギャラリーで開催されていたので見てきました。...   \n",
       "10301  １２月の法語There are two inevitable things in life....   \n",
       "9107   こんにちは！いかがお過ごしですか？課題フードつきジャケットの後ろ身頃を編んでいます。今日は、...   \n",
       "5431   Author:ルミネ\\nルミネのブログへようこそ！２０１１年１０月からブログを始めました。花...   \n",
       "8690   [PR]サラリーマンをやめて起業したのですが、借金だけが残り、お先真っ暗状態です（苦笑）「天...   \n",
       "\n",
       "                                               title  toxicity  \n",
       "2803                                    ヒマラヤ大写真展 - 山         0  \n",
       "10301                                今月の法語 - 願勝寺のブログ         0  \n",
       "9107     ベターホームを極める＆ル・コルドン・ブルーでパン作り&編み物 後ろ身頃を編んでいます♪         0  \n",
       "5431                                      虹 | ルミネの日記         0  \n",
       "8690   天才脳開発パーフェクトブレインの東大医師・森田敏宏 wiki 情報 評判は？ - ココロ社         0  "
      ]
     },
     "execution_count": 3,
     "metadata": {},
     "output_type": "execute_result"
    }
   ],
   "source": [
    "df = pd.read_json('../../data/fc2b/fc2b.json')\n",
    "df.sample(5)"
   ]
  },
  {
   "cell_type": "code",
   "execution_count": 4,
   "id": "67080a25-47ec-481e-98b1-7c48fda6c4b5",
   "metadata": {
    "tags": []
   },
   "outputs": [
    {
     "name": "stderr",
     "output_type": "stream",
     "text": [
      "100%|████████████████████████████████████████████████████████████████████████████████████████████████████████████████████████████████████████████████████████████████████| 13867/13867 [00:46<00:00, 297.43it/s]\n"
     ]
    }
   ],
   "source": [
    "mecab = MeCab.Tagger(\"-F%m^%f[0]\\\\\\\\s\")\n",
    "POS = ('名詞', '動詞', '形容詞', '副詞')\n",
    "\n",
    "text_tokens = []\n",
    "for text in tqdm(df[\"text\"].values):\n",
    "    text = neologdn.normalize(text).strip()\n",
    "    text = text.replace(\"^\", \"-\")\n",
    "    parsed = mecab.parse(text)\n",
    "    if parsed:\n",
    "        tokens = [node.split(\"^\")[0] for node in parsed.strip().split() if \"^\" in node and node.split(\"^\")[1] in POS]\n",
    "        text_tokens.append(\" \".join(tokens))\n",
    "    else:\n",
    "        text_tokens.append(\"\")        \n",
    "df[\"token\"] = text_tokens\n",
    "\n",
    "df = df[df[\"token\"] != \"\"]"
   ]
  },
  {
   "cell_type": "code",
   "execution_count": 5,
   "id": "73627bc3-8cd2-4f2e-ad81-6ff0e7337cd5",
   "metadata": {
    "tags": []
   },
   "outputs": [
    {
     "data": {
      "text/html": [
       "<div>\n",
       "<style scoped>\n",
       "    .dataframe tbody tr th:only-of-type {\n",
       "        vertical-align: middle;\n",
       "    }\n",
       "\n",
       "    .dataframe tbody tr th {\n",
       "        vertical-align: top;\n",
       "    }\n",
       "\n",
       "    .dataframe thead th {\n",
       "        text-align: right;\n",
       "    }\n",
       "</style>\n",
       "<table border=\"1\" class=\"dataframe\">\n",
       "  <thead>\n",
       "    <tr style=\"text-align: right;\">\n",
       "      <th></th>\n",
       "      <th>toxicity</th>\n",
       "      <th>genre_name</th>\n",
       "      <th>title</th>\n",
       "      <th>token</th>\n",
       "    </tr>\n",
       "  </thead>\n",
       "  <tbody>\n",
       "    <tr>\n",
       "      <th>11619</th>\n",
       "      <td>0</td>\n",
       "      <td>スポーツ</td>\n",
       "      <td>RAC-Official-Blog 12月18日(水) 衣笠練</td>\n",
       "      <td>[ メンバー ] 1 回 し ほ ちゃん , ん ちゃん , けい , こい , そう , ...</td>\n",
       "    </tr>\n",
       "    <tr>\n",
       "      <th>7415</th>\n",
       "      <td>0</td>\n",
       "      <td>アニメ・コミック</td>\n",
       "      <td>ロベルト・フェラーリさん帰国 - アニメに感謝</td>\n",
       "      <td>96 年 25 才 来日 し ロベルト さん タツノ コプロ 入社 さ れ 科学 忍者 隊 ...</td>\n",
       "    </tr>\n",
       "    <tr>\n",
       "      <th>2736</th>\n",
       "      <td>0</td>\n",
       "      <td>ニュース</td>\n",
       "      <td>地球 二〇三四 ビューティフルエナジー</td>\n",
       "      <td>2024 _ 1217 _ 火曜 ちょうど 頃 イエス マグダラ マリア 出会っ いる マグ...</td>\n",
       "    </tr>\n",
       "    <tr>\n",
       "      <th>12358</th>\n",
       "      <td>0</td>\n",
       "      <td>ライフ</td>\n",
       "      <td>リート買い増し 不動産比率 7割へ - 消費せず働きもしない未来を歩む遊民の独白</td>\n",
       "      <td>安かっ 買い どこ J - REIT 予想 とおり 安く なっ い もう少し 売り 続く 可...</td>\n",
       "    </tr>\n",
       "    <tr>\n",
       "      <th>5134</th>\n",
       "      <td>0</td>\n",
       "      <td>日記</td>\n",
       "      <td>「土手の伊勢屋」で天丼！ １時間３０分並びました！ - 天丼・かき揚げ丼</td>\n",
       "      <td>80 歳 マラッカ なう ! 日本人 墓地 行っ 後 焼き魚 魚 スープ ! こんなに 美味...</td>\n",
       "    </tr>\n",
       "  </tbody>\n",
       "</table>\n",
       "</div>"
      ],
      "text/plain": [
       "       toxicity genre_name                                     title  \\\n",
       "11619         0       スポーツ           RAC-Official-Blog 12月18日(水) 衣笠練   \n",
       "7415          0   アニメ・コミック                   ロベルト・フェラーリさん帰国 - アニメに感謝   \n",
       "2736          0       ニュース                       地球 二〇三四 ビューティフルエナジー   \n",
       "12358         0        ライフ  リート買い増し 不動産比率 7割へ - 消費せず働きもしない未来を歩む遊民の独白   \n",
       "5134          0         日記      「土手の伊勢屋」で天丼！ １時間３０分並びました！ - 天丼・かき揚げ丼   \n",
       "\n",
       "                                                   token  \n",
       "11619  [ メンバー ] 1 回 し ほ ちゃん , ん ちゃん , けい , こい , そう , ...  \n",
       "7415   96 年 25 才 来日 し ロベルト さん タツノ コプロ 入社 さ れ 科学 忍者 隊 ...  \n",
       "2736   2024 _ 1217 _ 火曜 ちょうど 頃 イエス マグダラ マリア 出会っ いる マグ...  \n",
       "12358  安かっ 買い どこ J - REIT 予想 とおり 安く なっ い もう少し 売り 続く 可...  \n",
       "5134   80 歳 マラッカ なう ! 日本人 墓地 行っ 後 焼き魚 魚 スープ ! こんなに 美味...  "
      ]
     },
     "execution_count": 5,
     "metadata": {},
     "output_type": "execute_result"
    }
   ],
   "source": [
    "df[['toxicity', 'genre_name', 'title', 'token']].sample(5)"
   ]
  },
  {
   "cell_type": "code",
   "execution_count": 6,
   "id": "f14fae1d-86d0-4912-9809-4e7c671f6b25",
   "metadata": {
    "tags": []
   },
   "outputs": [
    {
     "data": {
      "image/png": "[encoded data removed]",
      "text/plain": [
       "<Figure size 1200x500 with 1 Axes>"
      ]
     },
     "metadata": {},
     "output_type": "display_data"
    }
   ],
   "source": [
    "plt.figure(figsize=(12,5))\n",
    "\n",
    "df[\"genre_name\"].value_counts().plot(kind=\"bar\")\n",
    "plt.show()"
   ]
  },
  {
   "cell_type": "code",
   "execution_count": 186,
   "id": "cf098a94-d217-42a7-a48b-efae173d8fd5",
   "metadata": {
    "tags": []
   },
   "outputs": [
    {
     "data": {
      "image/png": "[encoded data removed]",
      "text/plain": [
       "<Figure size 640x480 with 1 Axes>"
      ]
     },
     "metadata": {},
     "output_type": "display_data"
    }
   ],
   "source": [
    "genres = df[\"genre_name\"].value_counts().keys()[np.where((df[\"genre_name\"].value_counts() > 200).values == True)].values\n",
    "df = df.query(\"genre_name in @genres\")\n",
    "\n",
    "df[\"genre_name\"].value_counts().plot(kind=\"bar\")\n",
    "plt.show()"
   ]
  },
  {
   "cell_type": "code",
   "execution_count": 187,
   "id": "3ad2625e-90a4-4cb1-bff2-d7999a20ff43",
   "metadata": {
    "tags": []
   },
   "outputs": [],
   "source": [
    "def uniform_kfold(y, n_splits=3):\n",
    "    np.random.seed(1234)\n",
    "\n",
    "    labels = list(set(y))\n",
    "    n_labels = len(labels)\n",
    "\n",
    "    folds = [[[] for _ in range(n_labels)] for _ in range(n_splits)]\n",
    "\n",
    "    for label in list(set(y)):\n",
    "        label_count = list(y).count(label)\n",
    "        label_indices = [i for i, y_i in enumerate(y) if y_i == label]\n",
    "        np.random.shuffle(label_indices)\n",
    "        for i, idx in enumerate(label_indices):\n",
    "            folds[i % n_splits][labels.index(label)].append(idx)\n",
    "\n",
    "    for n in range(n_splits):\n",
    "        train_indices = reduce(add, [reduce(add, indices) for i, indices in enumerate(folds) if i != n])\n",
    "        test_indices = reduce(add, folds[n])\n",
    "        yield train_indices, test_indices"
   ]
  },
  {
   "cell_type": "code",
   "execution_count": 188,
   "id": "3a3f0f9f-28ff-4ca9-a518-212df99f1533",
   "metadata": {
    "tags": []
   },
   "outputs": [
    {
     "data": {
      "text/html": [
       "<iframe\n",
       "    scrolling=\"no\"\n",
       "    width=\"1020px\"\n",
       "    height=\"1020\"\n",
       "    src=\"iframe_figures/figure_188.html\"\n",
       "    frameborder=\"0\"\n",
       "    allowfullscreen\n",
       "></iframe>\n"
      ]
     },
     "metadata": {},
     "output_type": "display_data"
    }
   ],
   "source": [
    "X = df['token'].values\n",
    "y = df['genre_id'].values\n",
    "\n",
    "data = [(train_indices, test_indices) for (train_indices, test_indices) in uniform_kfold(y, n_splits=3)]\n",
    "\n",
    "def plot_kfold(data):\n",
    "    fig = make_subplots(rows=len(data), cols=1, shared_xaxes=True, vertical_spacing = 0.03)\n",
    "    for i, (train_indices, test_indices) in enumerate(data):\n",
    "        fig.add_trace(go.Histogram(name='train', x=df.iloc[train_indices][\"genre_name\"].values, marker_color=\"blue\"), row=i+1, col=1)\n",
    "        fig.add_trace(go.Histogram(name='test', x=df.iloc[test_indices][\"genre_name\"].values, marker_color=\"red\"), row=i+1, col=1)\n",
    "    fig.update_layout(height=1000, width=1000, barmode='group', margin=dict(t=20, b=0, l=10, r=10), showlegend=False)\n",
    "    fig.update_traces(opacity=0.5)\n",
    "    fig.show()\n",
    "\n",
    "plot_kfold(data)"
   ]
  },
  {
   "cell_type": "code",
   "execution_count": 189,
   "id": "4482b9e3-bce8-4008-893d-0dee0e632a32",
   "metadata": {
    "tags": []
   },
   "outputs": [
    {
     "name": "stdout",
     "output_type": "stream",
     "text": [
      "(7673, 8000) (3847,)\n"
     ]
    }
   ],
   "source": [
    "kf = uniform_kfold(y, n_splits=3)\n",
    "train_indices, test_indices = next(kf)\n",
    "\n",
    "# 10　<= 単語の出現文書数 <= 文書数*0.3\n",
    "cv = CountVectorizer(lowercase=True, max_df=0.3, min_df=10, max_features=8000)\n",
    "#cv = TfidfVectorizer(lowercase=True, max_df=0.3, min_df=10, max_features=8000)\n",
    "\n",
    "X_train, y_train = X[train_indices], y[train_indices]\n",
    "X_test, y_test = X[test_indices], y[test_indices]\n",
    "X_train = cv.fit_transform(X_train).toarray()\n",
    "X_test = cv.transform(X_test).toarray()\n",
    "\n",
    "print(X_train.shape, y_test.shape)"
   ]
  },
  {
   "cell_type": "code",
   "execution_count": 190,
   "id": "f16177cf-dfc5-4aca-bacc-c97b842020ec",
   "metadata": {
    "tags": []
   },
   "outputs": [
    {
     "data": {
      "text/plain": [
       "[('robot', 12929),\n",
       " ('как', 10248),\n",
       " ('flowers', 9301),\n",
       " ('2018', 8440),\n",
       " ('posts', 7260),\n",
       " ('100', 6198),\n",
       " ('ca', 5450),\n",
       " ('small', 5156),\n",
       " ('110', 5124),\n",
       " ('five', 4901),\n",
       " ('projects', 4897),\n",
       " ('あんま', 4809),\n",
       " ('xx', 4529),\n",
       " ('お前', 4517),\n",
       " ('きら', 4418),\n",
       " ('97', 4341),\n",
       " ('たち', 4011),\n",
       " ('natural', 3956),\n",
       " ('かわり', 3846),\n",
       " ('お守り', 3756),\n",
       " ('いけ', 3753),\n",
       " ('following', 3721),\n",
       " ('1994', 3637),\n",
       " ('163', 3541),\n",
       " ('153', 3430),\n",
       " ('142', 3422),\n",
       " ('known', 3398),\n",
       " ('26', 3392),\n",
       " ('庭園', 3383),\n",
       " ('four', 3329),\n",
       " ('ドクター', 3264),\n",
       " ('switch', 3263),\n",
       " ('不満', 3214),\n",
       " ('昆虫', 3212),\n",
       " ('wi', 3162),\n",
       " ('af', 3156),\n",
       " ('整備', 3049),\n",
       " ('翌日', 2908),\n",
       " ('sound', 2875),\n",
       " ('単に', 2867),\n",
       " ('とおり', 2858),\n",
       " ('011', 2822),\n",
       " ('建設', 2789),\n",
       " ('firm', 2766),\n",
       " ('00', 2733),\n",
       " ('彼女', 2664),\n",
       " ('覚える', 2662),\n",
       " ('いまいち', 2618),\n",
       " ('130', 2594),\n",
       " ('終わる', 2553)]"
      ]
     },
     "metadata": {},
     "output_type": "display_data"
    },
    {
     "data": {
      "text/plain": [
       "[('188', 28),\n",
       " ('thus', 28),\n",
       " ('225', 28),\n",
       " ('プロデューサー', 28),\n",
       " ('parts', 28),\n",
       " ('優し', 28),\n",
       " ('writing', 28),\n",
       " ('有馬', 28),\n",
       " ('日頃', 28),\n",
       " ('偶然', 28),\n",
       " ('ゲー', 28),\n",
       " ('ボケ', 28),\n",
       " ('シングル', 28),\n",
       " ('movie', 28),\n",
       " ('move', 28),\n",
       " ('願っ', 28),\n",
       " ('137', 28),\n",
       " ('病院', 28),\n",
       " ('ニュース', 28),\n",
       " ('メーター', 28),\n",
       " ('馬鹿', 28),\n",
       " ('カウント', 28),\n",
       " ('ヤマ', 28),\n",
       " ('尽き', 28),\n",
       " ('使い', 28),\n",
       " ('女性', 28),\n",
       " ('woman', 28),\n",
       " ('without', 28),\n",
       " ('開い', 28),\n",
       " ('bank', 28),\n",
       " ('防止', 28),\n",
       " ('believe', 28),\n",
       " ('出前', 28),\n",
       " ('爆発', 28),\n",
       " ('冷静', 28),\n",
       " ('暮らす', 28),\n",
       " ('出張', 28),\n",
       " ('ハンド', 28),\n",
       " ('出船', 28),\n",
       " ('very', 28),\n",
       " ('牡蠣', 28),\n",
       " ('blogspot', 28),\n",
       " ('切っ', 28),\n",
       " ('開く', 28),\n",
       " ('昭恵', 28),\n",
       " ('box', 28),\n",
       " ('実験', 28),\n",
       " ('author', 28),\n",
       " ('公共', 28),\n",
       " ('刺繍', 28)]"
      ]
     },
     "metadata": {},
     "output_type": "display_data"
    }
   ],
   "source": [
    "vocabs = cv.get_feature_names_out()\n",
    "\n",
    "# 出現回数上位２０\n",
    "display([(w, c) for w, c in zip(vocab[np.argsort(X_train.sum(axis=0))[-50:]][::-1], np.array(sorted(X_train.sum(axis=0))[-50:][::-1]))])\n",
    "# 出現回数下位20\n",
    "display([(w, c) for w, c in zip(vocab[np.argsort(X_train.sum(axis=0))[:50]], np.array(sorted(X_train.sum(axis=0))[:50]))])"
   ]
  },
  {
   "cell_type": "code",
   "execution_count": 191,
   "id": "6f593c8b-fde2-482e-bae8-f1d7279fe512",
   "metadata": {
    "tags": []
   },
   "outputs": [
    {
     "name": "stdout",
     "output_type": "stream",
     "text": [
      "(7673, 8000) (3847,)\n"
     ]
    }
   ],
   "source": [
    "kf = uniform_kfold(y, n_splits=3)\n",
    "train_indices, test_indices = next(kf)\n",
    "\n",
    "# 10　<= 単語の出現文書数 <= 文書数*0.3\n",
    "cv = CountVectorizer(binary=True, lowercase=True, max_df=0.3, min_df=10, max_features=8000)\n",
    "#cv = TfidfVectorizer(lowercase=True, max_df=0.3, min_df=10, max_features=8000)\n",
    "\n",
    "X_train, y_train = X[train_indices], y[train_indices]\n",
    "X_test, y_test = X[test_indices], y[test_indices]\n",
    "X_train = cv.fit_transform(X_train).toarray()\n",
    "X_test = cv.transform(X_test).toarray()\n",
    "\n",
    "print(X_train.shape, y_test.shape)"
   ]
  },
  {
   "cell_type": "code",
   "execution_count": 192,
   "id": "9a31ee16-652a-4090-8c49-8021ac6d0f95",
   "metadata": {
    "tags": []
   },
   "outputs": [],
   "source": [
    "clf = OneVsRestClassifier(LogisticRegression(max_iter=300, n_jobs=multiprocessing.cpu_count()-1, verbose=False))\n",
    "clf.fit(X_train, y_train)\n",
    "\n",
    "y_pred = clf.predict(X_test)"
   ]
  },
  {
   "cell_type": "code",
   "execution_count": 193,
   "id": "27110fd6-70f6-446f-a229-c40dc40de854",
   "metadata": {
    "tags": []
   },
   "outputs": [
    {
     "name": "stdout",
     "output_type": "stream",
     "text": [
      "Accuracy Score        : 0.5942292695606967\n",
      "Classification Report :\n",
      "               precision    recall  f1-score   support\n",
      "\n",
      "          10       0.63      0.58      0.61       168\n",
      "          11       0.67      0.42      0.52        85\n",
      "          12       0.76      0.62      0.68       162\n",
      "          15       0.75      0.77      0.76       149\n",
      "          18       0.63      0.77      0.69       298\n",
      "          22       0.41      0.55      0.47       357\n",
      "          24       0.63      0.53      0.58       120\n",
      "          25       0.62      0.53      0.57       130\n",
      "          26       0.59      0.67      0.63       207\n",
      "          28       0.51      0.43      0.47       118\n",
      "          32       0.52      0.34      0.41       101\n",
      "          34       0.69      0.51      0.59        96\n",
      "          36       0.65      0.55      0.59       109\n",
      "          38       0.76      0.49      0.60        80\n",
      "          41       0.70      0.48      0.57       128\n",
      "          42       0.93      0.70      0.80        93\n",
      "          46       0.48      0.59      0.53       343\n",
      "          48       0.77      0.62      0.69       128\n",
      "           6       0.83      0.68      0.75        92\n",
      "           7       0.42      0.52      0.46       413\n",
      "           8       0.78      0.77      0.78       292\n",
      "           9       0.72      0.62      0.67       101\n",
      "           a       0.81      0.44      0.57        77\n",
      "\n",
      "    accuracy                           0.59      3847\n",
      "   macro avg       0.66      0.57      0.61      3847\n",
      "weighted avg       0.62      0.59      0.60      3847\n",
      "\n"
     ]
    }
   ],
   "source": [
    "print(\"Accuracy Score        :\", accuracy_score(y_test, y_pred))\n",
    "print(\"Classification Report :\\n\", classification_report(y_test, y_pred))"
   ]
  },
  {
   "cell_type": "code",
   "execution_count": 194,
   "id": "ed80c369-d16c-4db9-9c04-07b8ddd5e9ae",
   "metadata": {
    "tags": []
   },
   "outputs": [
    {
     "name": "stdout",
     "output_type": "stream",
     "text": [
      "CV.0 #Train=7673 #Test=3847\n",
      "CV.1 #Train=7679 #Test=3841\n",
      "CV.2 #Train=7688 #Test=3832\n"
     ]
    }
   ],
   "source": [
    "y_preds, y_trues = [], []\n",
    "\n",
    "for n, (train_indices, test_indices) in enumerate(uniform_kfold(y, n_splits=3)):\n",
    "    X_train, y_train = X[train_indices], y[train_indices]\n",
    "    X_test, y_test = X[test_indices], y[test_indices]\n",
    "    print(f'CV.{n} #Train={len(X_train)} #Test={len(X_test)}')\n",
    "\n",
    "    cv = CountVectorizer(binary=True, lowercase=True, max_df=0.3, min_df=10, max_features=8000)\n",
    "\n",
    "    X_train = cv.fit_transform(X_train).toarray()\n",
    "    X_test = cv.transform(X_test).toarray()\n",
    "\n",
    "    clf = OneVsRestClassifier(LogisticRegression(n_jobs=multiprocessing.cpu_count()-1, verbose=False))\n",
    "    clf.fit(X_train, y_train)\n",
    "    \n",
    "    y_pred = clf.predict(X_test)\n",
    "\n",
    "    y_preds.extend(y_pred)\n",
    "    y_trues.extend(y_test)"
   ]
  },
  {
   "cell_type": "code",
   "execution_count": 195,
   "id": "ea994267-765b-4e42-b431-1749d2e9edb1",
   "metadata": {
    "tags": []
   },
   "outputs": [
    {
     "name": "stdout",
     "output_type": "stream",
     "text": [
      "Accuracy Score        : 0.5957465277777778\n",
      "Classification Report :\n",
      "               precision    recall  f1-score   support\n",
      "\n",
      "          10       0.65      0.57      0.61       503\n",
      "          11       0.62      0.39      0.48       253\n",
      "          12       0.72      0.64      0.68       485\n",
      "          15       0.73      0.72      0.73       446\n",
      "          18       0.67      0.75      0.71       893\n",
      "          22       0.40      0.53      0.46      1070\n",
      "          24       0.61      0.53      0.57       358\n",
      "          25       0.59      0.55      0.57       388\n",
      "          26       0.65      0.65      0.65       621\n",
      "          28       0.57      0.43      0.49       354\n",
      "          32       0.59      0.37      0.46       302\n",
      "          34       0.68      0.50      0.57       287\n",
      "          36       0.66      0.52      0.58       327\n",
      "          38       0.79      0.53      0.64       240\n",
      "          41       0.63      0.52      0.57       382\n",
      "          42       0.85      0.73      0.78       278\n",
      "          46       0.50      0.60      0.55      1027\n",
      "          48       0.79      0.66      0.72       384\n",
      "           6       0.83      0.65      0.73       275\n",
      "           7       0.40      0.53      0.45      1239\n",
      "           8       0.78      0.79      0.78       876\n",
      "           9       0.69      0.61      0.65       303\n",
      "           a       0.82      0.48      0.61       229\n",
      "\n",
      "    accuracy                           0.60     11520\n",
      "   macro avg       0.66      0.58      0.61     11520\n",
      "weighted avg       0.62      0.60      0.60     11520\n",
      "\n"
     ]
    }
   ],
   "source": [
    "print(\"Accuracy Score        :\", accuracy_score(y_trues, y_preds))\n",
    "print(\"Classification Report :\\n\", classification_report(y_trues, y_preds))"
   ]
  },
  {
   "cell_type": "code",
   "execution_count": null,
   "id": "80204464-fce9-421e-8be9-03c6272e7919",
   "metadata": {},
   "outputs": [],
   "source": []
  },
  {
   "cell_type": "code",
   "execution_count": 196,
   "id": "e5be41be-dbdc-479c-93c7-43b170ae7a10",
   "metadata": {
    "tags": []
   },
   "outputs": [
    {
     "name": "stdout",
     "output_type": "stream",
     "text": [
      "CV.0 #Train=7673 #Test=3847\n",
      "CV.1 #Train=7679 #Test=3841\n",
      "CV.2 #Train=7688 #Test=3832\n"
     ]
    }
   ],
   "source": [
    "from sklearn.naive_bayes import MultinomialNB\n",
    "\n",
    "y_preds, y_trues = [], []\n",
    "\n",
    "for n, (train_indices, test_indices) in enumerate(uniform_kfold(y, n_splits=3)):\n",
    "    X_train, y_train = X[train_indices], y[train_indices]\n",
    "    X_test, y_test = X[test_indices], y[test_indices]\n",
    "    print(f'CV.{n} #Train={len(X_train)} #Test={len(X_test)}')\n",
    "\n",
    "    cv = CountVectorizer(binary=True, lowercase=True, max_df=0.3, min_df=10, max_features=8000)\n",
    "\n",
    "    X_train = cv.fit_transform(X_train).toarray()\n",
    "    X_test = cv.transform(X_test).toarray()\n",
    "\n",
    "    clf = MultinomialNB()\n",
    "    clf.fit(X_train, y_train)\n",
    "    \n",
    "    y_pred = clf.predict(X_test)\n",
    "\n",
    "    y_preds.extend(y_pred)\n",
    "    y_trues.extend(y_test)"
   ]
  },
  {
   "cell_type": "code",
   "execution_count": 197,
   "id": "780d0b31-d647-46e1-ac3a-5055dc8cf899",
   "metadata": {
    "tags": []
   },
   "outputs": [
    {
     "name": "stdout",
     "output_type": "stream",
     "text": [
      "Accuracy Score        : 0.5358506944444444\n",
      "Classification Report :\n",
      "               precision    recall  f1-score   support\n",
      "\n",
      "          10       0.53      0.57      0.55       503\n",
      "          11       0.52      0.45      0.48       253\n",
      "          12       0.68      0.59      0.63       485\n",
      "          15       0.44      0.72      0.55       446\n",
      "          18       0.52      0.74      0.61       893\n",
      "          22       0.38      0.28      0.33      1070\n",
      "          24       0.43      0.61      0.50       358\n",
      "          25       0.49      0.50      0.49       388\n",
      "          26       0.67      0.62      0.64       621\n",
      "          28       0.52      0.33      0.40       354\n",
      "          32       0.65      0.26      0.37       302\n",
      "          34       0.63      0.33      0.43       287\n",
      "          36       0.49      0.55      0.52       327\n",
      "          38       0.76      0.55      0.64       240\n",
      "          41       0.61      0.50      0.55       382\n",
      "          42       0.78      0.76      0.77       278\n",
      "          46       0.45      0.54      0.49      1027\n",
      "          48       0.72      0.62      0.67       384\n",
      "           6       0.80      0.53      0.64       275\n",
      "           7       0.39      0.41      0.40      1239\n",
      "           8       0.73      0.74      0.74       876\n",
      "           9       0.50      0.68      0.58       303\n",
      "           a       0.88      0.44      0.58       229\n",
      "\n",
      "    accuracy                           0.54     11520\n",
      "   macro avg       0.59      0.54      0.55     11520\n",
      "weighted avg       0.55      0.54      0.53     11520\n",
      "\n"
     ]
    }
   ],
   "source": [
    "print(\"Accuracy Score        :\", accuracy_score(y_trues, y_preds))\n",
    "print(\"Classification Report :\\n\", classification_report(y_trues, y_preds))"
   ]
  },
  {
   "cell_type": "code",
   "execution_count": null,
   "id": "3c12ed80-705b-4882-b9d4-e973a1f79aad",
   "metadata": {},
   "outputs": [],
   "source": []
  }
 ],
 "metadata": {
  "kernelspec": {
   "display_name": "Python 3 (ipykernel)",
   "language": "python",
   "name": "python3"
  },
  "language_info": {
   "codemirror_mode": {
    "name": "ipython",
    "version": 3
   },
   "file_extension": ".py",
   "mimetype": "text/x-python",
   "name": "python",
   "nbconvert_exporter": "python",
   "pygments_lexer": "ipython3",
   "version": "3.10.12"
  }
 },
 "nbformat": 4,
 "nbformat_minor": 5
}
